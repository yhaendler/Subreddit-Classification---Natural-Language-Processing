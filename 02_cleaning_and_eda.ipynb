{
 "cells": [
  {
   "cell_type": "markdown",
   "id": "ab62278d-3557-4c6b-a118-8cf95d80bf76",
   "metadata": {},
   "source": [
    "### **Cleaning & Exploratory Data Analysis**"
   ]
  },
  {
   "cell_type": "code",
   "execution_count": 2,
   "id": "ee7f272c-cca2-41af-859f-aacb5f3665f5",
   "metadata": {},
   "outputs": [],
   "source": [
    "# imports\n",
    "import pandas as pd\n",
    "import numpy as np\n",
    "import seaborn as sns\n",
    "import matplotlib.pyplot as plt\n",
    "pd.options.display.max_colwidth = 350"
   ]
  },
  {
   "cell_type": "code",
   "execution_count": 3,
   "id": "966a6db8-f5ca-4c3d-ad7c-ac71262183b7",
   "metadata": {},
   "outputs": [],
   "source": [
    "# read the data\n",
    "data = pd.read_csv('../data/data_reddit.csv')"
   ]
  },
  {
   "cell_type": "code",
   "execution_count": 4,
   "id": "3139abdb-9ad9-4e4c-be66-ac578cadfaf9",
   "metadata": {},
   "outputs": [
    {
     "data": {
      "text/plain": [
       "(20600, 4)"
      ]
     },
     "execution_count": 4,
     "metadata": {},
     "output_type": "execute_result"
    }
   ],
   "source": [
    "# look at the data\n",
    "data.shape"
   ]
  },
  {
   "cell_type": "code",
   "execution_count": 5,
   "id": "6882f83d-88ce-4535-994c-8e2bb2ff80da",
   "metadata": {},
   "outputs": [
    {
     "data": {
      "text/html": [
       "<div>\n",
       "<style scoped>\n",
       "    .dataframe tbody tr th:only-of-type {\n",
       "        vertical-align: middle;\n",
       "    }\n",
       "\n",
       "    .dataframe tbody tr th {\n",
       "        vertical-align: top;\n",
       "    }\n",
       "\n",
       "    .dataframe thead th {\n",
       "        text-align: right;\n",
       "    }\n",
       "</style>\n",
       "<table border=\"1\" class=\"dataframe\">\n",
       "  <thead>\n",
       "    <tr style=\"text-align: right;\">\n",
       "      <th></th>\n",
       "      <th>subreddit</th>\n",
       "      <th>selftext</th>\n",
       "      <th>title</th>\n",
       "      <th>created_utc</th>\n",
       "    </tr>\n",
       "  </thead>\n",
       "  <tbody>\n",
       "    <tr>\n",
       "      <th>0</th>\n",
       "      <td>books</td>\n",
       "      <td>And it's not because I'm a slow reader - quite the contrary. But this was a book worth taking my time over.\\n\\nI think it's mostly to do with the fact that I knew beforehand how the story of this remarkable ship ends, and I was putting off reading about the details.\\n\\nCouple this with the wonderful and charming way in which Palin (of Monty Pyt...</td>\n",
       "      <td>It's taken me all year, but I finally finished \"Erebus: The Story of a Ship\" by Michael Palin</td>\n",
       "      <td>1577836753</td>\n",
       "    </tr>\n",
       "    <tr>\n",
       "      <th>1</th>\n",
       "      <td>books</td>\n",
       "      <td>Those that scroll through reddit AND read so many books, some of you read sooooo many, how do you find the time?</td>\n",
       "      <td>How do you find the time?</td>\n",
       "      <td>1577835261</td>\n",
       "    </tr>\n",
       "    <tr>\n",
       "      <th>2</th>\n",
       "      <td>books</td>\n",
       "      <td>What’s everyone’s reading goals for next year? I’d like to read 50 books and read more fiction.</td>\n",
       "      <td>2020 reading goals</td>\n",
       "      <td>1577834790</td>\n",
       "    </tr>\n",
       "  </tbody>\n",
       "</table>\n",
       "</div>"
      ],
      "text/plain": [
       "  subreddit  \\\n",
       "0     books   \n",
       "1     books   \n",
       "2     books   \n",
       "\n",
       "                                                                                                                                                                                                                                                                                                                                                        selftext  \\\n",
       "0  And it's not because I'm a slow reader - quite the contrary. But this was a book worth taking my time over.\\n\\nI think it's mostly to do with the fact that I knew beforehand how the story of this remarkable ship ends, and I was putting off reading about the details.\\n\\nCouple this with the wonderful and charming way in which Palin (of Monty Pyt...   \n",
       "1                                                                                                                                                                                                                                               Those that scroll through reddit AND read so many books, some of you read sooooo many, how do you find the time?   \n",
       "2                                                                                                                                                                                                                                                                What’s everyone’s reading goals for next year? I’d like to read 50 books and read more fiction.   \n",
       "\n",
       "                                                                                           title  \\\n",
       "0  It's taken me all year, but I finally finished \"Erebus: The Story of a Ship\" by Michael Palin   \n",
       "1                                                                      How do you find the time?   \n",
       "2                                                                             2020 reading goals   \n",
       "\n",
       "   created_utc  \n",
       "0   1577836753  \n",
       "1   1577835261  \n",
       "2   1577834790  "
      ]
     },
     "execution_count": 5,
     "metadata": {},
     "output_type": "execute_result"
    }
   ],
   "source": [
    "# first 3 rows\n",
    "data.head(3)"
   ]
  },
  {
   "cell_type": "code",
   "execution_count": 6,
   "id": "1b4fbbba-2813-4f69-a438-ddffa8992bd3",
   "metadata": {},
   "outputs": [
    {
     "data": {
      "text/plain": [
       "subreddit         0\n",
       "selftext       4444\n",
       "title             0\n",
       "created_utc       0\n",
       "dtype: int64"
      ]
     },
     "execution_count": 6,
     "metadata": {},
     "output_type": "execute_result"
    }
   ],
   "source": [
    "# check how many NA's we have\n",
    "data.isnull().sum()"
   ]
  },
  {
   "cell_type": "code",
   "execution_count": 7,
   "id": "db453649-8a30-49b4-a367-cad5f95f7e99",
   "metadata": {},
   "outputs": [
    {
     "data": {
      "text/html": [
       "<div>\n",
       "<style scoped>\n",
       "    .dataframe tbody tr th:only-of-type {\n",
       "        vertical-align: middle;\n",
       "    }\n",
       "\n",
       "    .dataframe tbody tr th {\n",
       "        vertical-align: top;\n",
       "    }\n",
       "\n",
       "    .dataframe thead th {\n",
       "        text-align: right;\n",
       "    }\n",
       "</style>\n",
       "<table border=\"1\" class=\"dataframe\">\n",
       "  <thead>\n",
       "    <tr style=\"text-align: right;\">\n",
       "      <th></th>\n",
       "      <th>subreddit</th>\n",
       "      <th>selftext</th>\n",
       "      <th>title</th>\n",
       "      <th>created_utc</th>\n",
       "    </tr>\n",
       "  </thead>\n",
       "  <tbody>\n",
       "    <tr>\n",
       "      <th>15</th>\n",
       "      <td>books</td>\n",
       "      <td>NaN</td>\n",
       "      <td>Independent bookstore in Boston gets full liquor license!</td>\n",
       "      <td>1577830159</td>\n",
       "    </tr>\n",
       "    <tr>\n",
       "      <th>24</th>\n",
       "      <td>books</td>\n",
       "      <td>NaN</td>\n",
       "      <td>Seeking out the latest best seller is no more a hassle with book subscription boxes. If you are a sucker for comic books, a fan of fiction, romance or fantasy, these boxes have a genre for everyone to curl up with!</td>\n",
       "      <td>1577825932</td>\n",
       "    </tr>\n",
       "    <tr>\n",
       "      <th>25</th>\n",
       "      <td>books</td>\n",
       "      <td>NaN</td>\n",
       "      <td>KONTAKT TV: \"Ukraine in the News with Tania Stech,\" Oct. 31st, 2019 (New...</td>\n",
       "      <td>1577825434</td>\n",
       "    </tr>\n",
       "    <tr>\n",
       "      <th>31</th>\n",
       "      <td>books</td>\n",
       "      <td>NaN</td>\n",
       "      <td>Looking for what to read next? Look at some ideas</td>\n",
       "      <td>1577822969</td>\n",
       "    </tr>\n",
       "    <tr>\n",
       "      <th>32</th>\n",
       "      <td>books</td>\n",
       "      <td>NaN</td>\n",
       "      <td>A year after Denver Public Library ended late fees, patrons — and their books — are returning: Officials say 35% of patrons with fines who had stopped using Denver Public Library services have re-engaged</td>\n",
       "      <td>1577822324</td>\n",
       "    </tr>\n",
       "  </tbody>\n",
       "</table>\n",
       "</div>"
      ],
      "text/plain": [
       "   subreddit selftext  \\\n",
       "15     books      NaN   \n",
       "24     books      NaN   \n",
       "25     books      NaN   \n",
       "31     books      NaN   \n",
       "32     books      NaN   \n",
       "\n",
       "                                                                                                                                                                                                                     title  \\\n",
       "15                                                                                                                                                               Independent bookstore in Boston gets full liquor license!   \n",
       "24  Seeking out the latest best seller is no more a hassle with book subscription boxes. If you are a sucker for comic books, a fan of fiction, romance or fantasy, these boxes have a genre for everyone to curl up with!   \n",
       "25                                                                                                                                             KONTAKT TV: \"Ukraine in the News with Tania Stech,\" Oct. 31st, 2019 (New...   \n",
       "31                                                                                                                                                                       Looking for what to read next? Look at some ideas   \n",
       "32             A year after Denver Public Library ended late fees, patrons — and their books — are returning: Officials say 35% of patrons with fines who had stopped using Denver Public Library services have re-engaged   \n",
       "\n",
       "    created_utc  \n",
       "15   1577830159  \n",
       "24   1577825932  \n",
       "25   1577825434  \n",
       "31   1577822969  \n",
       "32   1577822324  "
      ]
     },
     "execution_count": 7,
     "metadata": {},
     "output_type": "execute_result"
    }
   ],
   "source": [
    "# the missing values seem to be posts that were submitted with only a title\n",
    "data[data['selftext'].isnull()].head()"
   ]
  },
  {
   "cell_type": "code",
   "execution_count": 8,
   "id": "f1853dac-311b-4458-95ca-757f4d03a1df",
   "metadata": {},
   "outputs": [
    {
     "data": {
      "text/plain": [
       "(6110, 4)"
      ]
     },
     "execution_count": 8,
     "metadata": {},
     "output_type": "execute_result"
    }
   ],
   "source": [
    "# check how many [removed] we have under selftext\n",
    "data[data['selftext']=='[removed]'].shape"
   ]
  },
  {
   "cell_type": "code",
   "execution_count": 9,
   "id": "f6d9516d-6aa5-496a-accc-604e2b82a1f4",
   "metadata": {},
   "outputs": [],
   "source": [
    "# One possibility is to train the models only on the titles. The model would train on fewer data points \n",
    "# in terms of number of words, because the titles are more concise than the text of the post.\n",
    "\n",
    "# A second option is to train the models only on the text, removing the missing values and the 'removed' \n",
    "# posts. This will result in fewer data points (specifically, 4444+6110 = 10,554 data points, more than half\n",
    "# the data).\n",
    "\n",
    "# A third option (proposed by Noah) is to combine the text and the title together into a single string of \n",
    "# text, and train the model on that combined text. This way, we remain with the entire data frame. In this\n",
    "# analysis, I will start out with this option and then explore also the second one mentioned above."
   ]
  },
  {
   "cell_type": "code",
   "execution_count": 10,
   "id": "b2b37dd4-6ff7-40ff-8fb9-7027998a6e4e",
   "metadata": {},
   "outputs": [],
   "source": [
    "# take all the 'removed' posts and replace the '[removed]' input with NaN, so that when we combine the \n",
    "# two columns we don't have an extra word there\n",
    "data['selftext'] = [np.nan if a=='[removed]' else a for a in data['selftext']]"
   ]
  },
  {
   "cell_type": "code",
   "execution_count": 11,
   "id": "a35222b5-d8ec-4df1-9f22-93d96a36ec1d",
   "metadata": {},
   "outputs": [],
   "source": [
    "# combine the two columns into one column\n",
    "# the NA needs to be filled with an empty string, so that we can combine it with the title\n",
    "data['combined_text'] = data['selftext'].fillna('') + ' ' + data['title']"
   ]
  },
  {
   "cell_type": "markdown",
   "id": "aea8b84f-931f-4be2-83f0-f9f21834a8ad",
   "metadata": {},
   "source": [
    "---"
   ]
  },
  {
   "cell_type": "markdown",
   "id": "b80130fe-0d06-4110-8cef-b3e65eb4bb71",
   "metadata": {},
   "source": [
    "### Comparing the length of title and text in the two subreddits"
   ]
  },
  {
   "cell_type": "code",
   "execution_count": 12,
   "id": "92c46fa1-f095-4c41-b0fc-a4cb186a1c6f",
   "metadata": {},
   "outputs": [],
   "source": [
    "# create a column with the number of words in each text\n",
    "data['word_count'] = [len(data.loc[i, 'combined_text'].split()) for i in range(data.shape[0])]\n",
    "\n",
    "# create a column with the number of characters in each text\n",
    "data['char_count'] = [len(data.loc[i,'combined_text']) for i in range(data.shape[0])]"
   ]
  },
  {
   "cell_type": "code",
   "execution_count": 13,
   "id": "14ddff3d-e008-450c-8950-f4b693884a7e",
   "metadata": {},
   "outputs": [
    {
     "data": {
      "text/html": [
       "<div>\n",
       "<style scoped>\n",
       "    .dataframe tbody tr th:only-of-type {\n",
       "        vertical-align: middle;\n",
       "    }\n",
       "\n",
       "    .dataframe tbody tr th {\n",
       "        vertical-align: top;\n",
       "    }\n",
       "\n",
       "    .dataframe thead th {\n",
       "        text-align: right;\n",
       "    }\n",
       "</style>\n",
       "<table border=\"1\" class=\"dataframe\">\n",
       "  <thead>\n",
       "    <tr style=\"text-align: right;\">\n",
       "      <th></th>\n",
       "      <th>subreddit</th>\n",
       "      <th>selftext</th>\n",
       "      <th>title</th>\n",
       "      <th>created_utc</th>\n",
       "      <th>combined_text</th>\n",
       "      <th>word_count</th>\n",
       "      <th>char_count</th>\n",
       "    </tr>\n",
       "  </thead>\n",
       "  <tbody>\n",
       "    <tr>\n",
       "      <th>0</th>\n",
       "      <td>books</td>\n",
       "      <td>And it's not because I'm a slow reader - quite the contrary. But this was a book worth taking my time over.\\n\\nI think it's mostly to do with the fact that I knew beforehand how the story of this remarkable ship ends, and I was putting off reading about the details.\\n\\nCouple this with the wonderful and charming way in which Palin (of Monty Pyt...</td>\n",
       "      <td>It's taken me all year, but I finally finished \"Erebus: The Story of a Ship\" by Michael Palin</td>\n",
       "      <td>1577836753</td>\n",
       "      <td>And it's not because I'm a slow reader - quite the contrary. But this was a book worth taking my time over.\\n\\nI think it's mostly to do with the fact that I knew beforehand how the story of this remarkable ship ends, and I was putting off reading about the details.\\n\\nCouple this with the wonderful and charming way in which Palin (of Monty Pyt...</td>\n",
       "      <td>197</td>\n",
       "      <td>1058</td>\n",
       "    </tr>\n",
       "    <tr>\n",
       "      <th>1</th>\n",
       "      <td>books</td>\n",
       "      <td>Those that scroll through reddit AND read so many books, some of you read sooooo many, how do you find the time?</td>\n",
       "      <td>How do you find the time?</td>\n",
       "      <td>1577835261</td>\n",
       "      <td>Those that scroll through reddit AND read so many books, some of you read sooooo many, how do you find the time? How do you find the time?</td>\n",
       "      <td>28</td>\n",
       "      <td>138</td>\n",
       "    </tr>\n",
       "    <tr>\n",
       "      <th>2</th>\n",
       "      <td>books</td>\n",
       "      <td>What’s everyone’s reading goals for next year? I’d like to read 50 books and read more fiction.</td>\n",
       "      <td>2020 reading goals</td>\n",
       "      <td>1577834790</td>\n",
       "      <td>What’s everyone’s reading goals for next year? I’d like to read 50 books and read more fiction. 2020 reading goals</td>\n",
       "      <td>20</td>\n",
       "      <td>114</td>\n",
       "    </tr>\n",
       "  </tbody>\n",
       "</table>\n",
       "</div>"
      ],
      "text/plain": [
       "  subreddit  \\\n",
       "0     books   \n",
       "1     books   \n",
       "2     books   \n",
       "\n",
       "                                                                                                                                                                                                                                                                                                                                                        selftext  \\\n",
       "0  And it's not because I'm a slow reader - quite the contrary. But this was a book worth taking my time over.\\n\\nI think it's mostly to do with the fact that I knew beforehand how the story of this remarkable ship ends, and I was putting off reading about the details.\\n\\nCouple this with the wonderful and charming way in which Palin (of Monty Pyt...   \n",
       "1                                                                                                                                                                                                                                               Those that scroll through reddit AND read so many books, some of you read sooooo many, how do you find the time?   \n",
       "2                                                                                                                                                                                                                                                                What’s everyone’s reading goals for next year? I’d like to read 50 books and read more fiction.   \n",
       "\n",
       "                                                                                           title  \\\n",
       "0  It's taken me all year, but I finally finished \"Erebus: The Story of a Ship\" by Michael Palin   \n",
       "1                                                                      How do you find the time?   \n",
       "2                                                                             2020 reading goals   \n",
       "\n",
       "   created_utc  \\\n",
       "0   1577836753   \n",
       "1   1577835261   \n",
       "2   1577834790   \n",
       "\n",
       "                                                                                                                                                                                                                                                                                                                                                   combined_text  \\\n",
       "0  And it's not because I'm a slow reader - quite the contrary. But this was a book worth taking my time over.\\n\\nI think it's mostly to do with the fact that I knew beforehand how the story of this remarkable ship ends, and I was putting off reading about the details.\\n\\nCouple this with the wonderful and charming way in which Palin (of Monty Pyt...   \n",
       "1                                                                                                                                                                                                                     Those that scroll through reddit AND read so many books, some of you read sooooo many, how do you find the time? How do you find the time?   \n",
       "2                                                                                                                                                                                                                                             What’s everyone’s reading goals for next year? I’d like to read 50 books and read more fiction. 2020 reading goals   \n",
       "\n",
       "   word_count  char_count  \n",
       "0         197        1058  \n",
       "1          28         138  \n",
       "2          20         114  "
      ]
     },
     "execution_count": 13,
     "metadata": {},
     "output_type": "execute_result"
    }
   ],
   "source": [
    "data.head(3)"
   ]
  },
  {
   "cell_type": "code",
   "execution_count": 14,
   "id": "76df2a12-1967-425a-953f-357ae0716143",
   "metadata": {},
   "outputs": [
    {
     "name": "stdout",
     "output_type": "stream",
     "text": [
      "count    10300.000000\n",
      "mean        69.512136\n",
      "std        155.515973\n",
      "min          1.000000\n",
      "25%          7.000000\n",
      "50%         14.000000\n",
      "75%         92.000000\n",
      "max       6294.000000\n",
      "Name: word_count, dtype: float64\n",
      "--------\n",
      "count    10300.000000\n",
      "mean       391.664660\n",
      "std        896.592643\n",
      "min          2.000000\n",
      "25%         43.000000\n",
      "50%         79.000000\n",
      "75%        505.000000\n",
      "max      33742.000000\n",
      "Name: char_count, dtype: float64\n"
     ]
    }
   ],
   "source": [
    "# look at the length of the combined texts in the subreddit books\n",
    "print(data[data['subreddit']=='books']['word_count'].describe())\n",
    "print('--------')\n",
    "print(data[data['subreddit']=='books']['char_count'].describe())"
   ]
  },
  {
   "cell_type": "code",
   "execution_count": 15,
   "id": "28349693-da3b-4a8b-a39b-0febee57a987",
   "metadata": {},
   "outputs": [
    {
     "name": "stdout",
     "output_type": "stream",
     "text": [
      "count    10300.000000\n",
      "mean        84.759417\n",
      "std        121.799073\n",
      "min          1.000000\n",
      "25%         10.000000\n",
      "50%         45.000000\n",
      "75%        117.000000\n",
      "max       2166.000000\n",
      "Name: word_count, dtype: float64\n",
      "--------\n",
      "count    10300.000000\n",
      "mean       512.511262\n",
      "std        748.892437\n",
      "min          3.000000\n",
      "25%         62.000000\n",
      "50%        283.000000\n",
      "75%        705.250000\n",
      "max      14633.000000\n",
      "Name: char_count, dtype: float64\n"
     ]
    }
   ],
   "source": [
    "# look at the length of the combined texts in the subreddit datascience\n",
    "print(data[data['subreddit']=='datascience']['word_count'].describe())\n",
    "print('--------')\n",
    "print(data[data['subreddit']=='datascience']['char_count'].describe())"
   ]
  },
  {
   "cell_type": "markdown",
   "id": "65d45f1b-03b7-42e8-8152-e5d339eed44d",
   "metadata": {},
   "source": [
    "---"
   ]
  },
  {
   "cell_type": "markdown",
   "id": "8691d33e-b8fb-4667-8df3-99eadcf738d7",
   "metadata": {},
   "source": [
    "### Looking at the distributions of title and text length"
   ]
  },
  {
   "cell_type": "code",
   "execution_count": 19,
   "id": "3e565d01-65b7-4f2f-b71f-0cc0da707d40",
   "metadata": {},
   "outputs": [
    {
     "data": {
      "image/png": "[encoded data removed]",
      "text/plain": [
       "<Figure size 864x648 with 1 Axes>"
      ]
     },
     "metadata": {
      "needs_background": "light"
     },
     "output_type": "display_data"
    }
   ],
   "source": [
    "plt.figure(figsize=(12,9))\n",
    "ax = sns.histplot(data=data, x='char_count', hue='subreddit', bins=100, edgecolor='white', alpha=0.5);\n",
    "\n",
    "plt.setp(ax.get_legend().get_texts(), fontsize='16')\n",
    "plt.setp(ax.get_legend().get_title(), fontsize='16')\n",
    "\n",
    "plt.xticks(fontsize=16);\n",
    "plt.yticks(fontsize=16);\n",
    "plt.xlabel('Number of characters', fontsize=16);\n",
    "plt.ylabel('count', fontsize=16);\n",
    "plt.title('Distribution of combined text length (number of characters) in the two subreddits', fontsize=16);\n",
    "\n",
    "plt.savefig('../images/char_count.jpeg');"
   ]
  },
  {
   "cell_type": "code",
   "execution_count": 21,
   "id": "d27cf551-95ab-47d5-a5d5-6ad044b65d25",
   "metadata": {},
   "outputs": [
    {
     "data": {
      "image/png": "[encoded data removed]",
      "text/plain": [
       "<Figure size 864x648 with 1 Axes>"
      ]
     },
     "metadata": {
      "needs_background": "light"
     },
     "output_type": "display_data"
    }
   ],
   "source": [
    "plt.figure(figsize=(12,9))\n",
    "ax = sns.histplot(data=data, x='word_count', hue='subreddit', bins=100, edgecolor='white', alpha=0.5);\n",
    "\n",
    "plt.setp(ax.get_legend().get_texts(), fontsize='16')\n",
    "plt.setp(ax.get_legend().get_title(), fontsize='16')\n",
    "\n",
    "plt.xticks(fontsize=16);\n",
    "plt.yticks(fontsize=16);\n",
    "plt.xlabel('Number of words', fontsize=16);\n",
    "plt.ylabel('count', fontsize=16);\n",
    "plt.title('Distribution of combined text length (number of words) in the two subreddits', fontsize=16);\n",
    "\n",
    "plt.savefig('../images/word_count.jpeg');"
   ]
  },
  {
   "cell_type": "markdown",
   "id": "bbcc9163-9834-4146-9a7e-220720443b2d",
   "metadata": {},
   "source": [
    "---"
   ]
  },
  {
   "cell_type": "markdown",
   "id": "5252fc16-f5d6-444b-ac60-e1b1936c41aa",
   "metadata": {},
   "source": [
    "### Looking at the most commong tri-grams"
   ]
  },
  {
   "cell_type": "code",
   "execution_count": 112,
   "id": "c38aef08-63bc-4696-80f0-86ded2ba932a",
   "metadata": {},
   "outputs": [],
   "source": [
    "# import count vectorizer\n",
    "from sklearn.feature_extraction.text import CountVectorizer\n",
    "\n",
    "# instantiate a count vectorizer\n",
    "cvec = CountVectorizer(ngram_range=(3,3), max_features=10000)"
   ]
  },
  {
   "cell_type": "code",
   "execution_count": 113,
   "id": "8b2518d9-6aa4-4c68-a884-75431c6be795",
   "metadata": {},
   "outputs": [],
   "source": [
    "# vectorized text data frame for books\n",
    "cvec_books = pd.DataFrame(cvec.fit_transform(data[data['subreddit']=='books']['combined_text']).todense(), \n",
    "                          columns=cvec.get_feature_names())\n",
    "\n",
    "# vectorized text data frame for data science\n",
    "cvec_ds = pd.DataFrame(cvec.fit_transform(data[data['subreddit']=='datascience']['combined_text']).todense(), \n",
    "                          columns=cvec.get_feature_names())"
   ]
  },
  {
   "cell_type": "code",
   "execution_count": 114,
   "id": "2332f822-8b1c-4df9-8cd9-fe1252fcf9b3",
   "metadata": {},
   "outputs": [
    {
     "data": {
      "text/plain": [
       "of the book           403\n",
       "one of the            302\n",
       "what do you           218\n",
       "do you think          204\n",
       "in the book           187\n",
       "the book is           167\n",
       "some of the           166\n",
       "at the end            164\n",
       "www youtube com       151\n",
       "https www youtube     151\n",
       "the end of            150\n",
       "the book and          145\n",
       "how do you            141\n",
       "youtube com watch     140\n",
       "this book is          139\n",
       "want to read          139\n",
       "the first book        137\n",
       "wikipedia org wiki    135\n",
       "the first time        132\n",
       "the book was          121\n",
       "dtype: int64"
      ]
     },
     "execution_count": 114,
     "metadata": {},
     "output_type": "execute_result"
    }
   ],
   "source": [
    "# 20 most common tri-grams for books\n",
    "cvec_books.sum().sort_values(ascending = False).head(20)"
   ]
  },
  {
   "cell_type": "code",
   "execution_count": 115,
   "id": "c6ee7ec0-00fd-4f1c-9f52-e26c36049080",
   "metadata": {},
   "outputs": [
    {
     "data": {
      "text/plain": [
       "in data science      1048\n",
       "for data science      507\n",
       "data science and      483\n",
       "of data science       402\n",
       "would like to         376\n",
       "to data science       337\n",
       "the data science      334\n",
       "be able to            277\n",
       "as data scientist     270\n",
       "into data science     245\n",
       "https github com      235\n",
       "do you think          212\n",
       "thanks in advance     200\n",
       "what are the          199\n",
       "www reddit com        197\n",
       "https www reddit      197\n",
       "how do you            195\n",
       "what is the           192\n",
       "and data science      192\n",
       "on how to             181\n",
       "dtype: int64"
      ]
     },
     "execution_count": 115,
     "metadata": {},
     "output_type": "execute_result"
    }
   ],
   "source": [
    "# 20 most common tri-grams for datascience\n",
    "cvec_ds.sum().sort_values(ascending = False).head(20)"
   ]
  },
  {
   "cell_type": "markdown",
   "id": "16197889-5fee-41c4-8cc7-5ac6121f5a53",
   "metadata": {},
   "source": [
    "---"
   ]
  },
  {
   "cell_type": "code",
   "execution_count": 100,
   "id": "88143e5e-bd03-41a7-be52-d9a23d834f6c",
   "metadata": {},
   "outputs": [],
   "source": [
    "# save the subsetted data frame for modeling\n",
    "data.to_csv('../data/data_reddit_combined.csv', index=False)"
   ]
  },
  {
   "cell_type": "markdown",
   "id": "6b417d1c-6c3b-49d7-9225-dd6d69826a51",
   "metadata": {},
   "source": [
    "---"
   ]
  }
 ],
 "metadata": {
  "kernelspec": {
   "display_name": "Python 3",
   "language": "python",
   "name": "python3"
  },
  "language_info": {
   "codemirror_mode": {
    "name": "ipython",
    "version": 3
   },
   "file_extension": ".py",
   "mimetype": "text/x-python",
   "name": "python",
   "nbconvert_exporter": "python",
   "pygments_lexer": "ipython3",
   "version": "3.8.8"
  }
 },
 "nbformat": 4,
 "nbformat_minor": 5
}
