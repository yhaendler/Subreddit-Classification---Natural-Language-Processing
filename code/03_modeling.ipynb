{
 "cells": [
  {
   "cell_type": "markdown",
   "id": "1cc02e4a-596f-457f-97a0-981d1ec9d533",
   "metadata": {},
   "source": [
    "### **Modeling the entire data**"
   ]
  },
  {
   "cell_type": "code",
   "execution_count": 1,
   "id": "0c16f01e-b6d6-4a6f-b102-95247a7f3013",
   "metadata": {},
   "outputs": [],
   "source": [
    "# standard imports\n",
    "import pandas as pd\n",
    "import numpy as np\n",
    "import matplotlib.pyplot as plt\n",
    "import seaborn as sns\n",
    "import os\n",
    "\n",
    "# NLP analysis imports\n",
    "from sklearn.feature_extraction.text import CountVectorizer, TfidfVectorizer\n",
    "\n",
    "# modeling imports\n",
    "from sklearn.model_selection import train_test_split, GridSearchCV, cross_val_score\n",
    "from sklearn.pipeline import Pipeline\n",
    "from sklearn.naive_bayes import MultinomialNB\n",
    "from sklearn.linear_model import LogisticRegression\n",
    "from sklearn.neighbors import KNeighborsClassifier\n",
    "from sklearn.ensemble import RandomForestClassifier, ExtraTreesClassifier\n",
    "from sklearn.metrics import confusion_matrix, plot_confusion_matrix\n",
    "\n",
    "from functions import model_scores # python file with a self-made function, saved in the code folder"
   ]
  },
  {
   "cell_type": "markdown",
   "id": "0da23bb9-9809-4e69-bca0-0b9d57939f76",
   "metadata": {},
   "source": [
    "---"
   ]
  },
  {
   "cell_type": "code",
   "execution_count": 2,
   "id": "704a7445-f658-4e2f-a6ea-998f1b7709b2",
   "metadata": {},
   "outputs": [],
   "source": [
    "# read the reddit_combined data\n",
    "data = pd.read_csv('../data/data_reddit_combined.csv')"
   ]
  },
  {
   "cell_type": "code",
   "execution_count": 3,
   "id": "2ebe5797-dacb-4af3-b31c-33761eaccd30",
   "metadata": {},
   "outputs": [
    {
     "data": {
      "text/html": [
       "<div>\n",
       "<style scoped>\n",
       "    .dataframe tbody tr th:only-of-type {\n",
       "        vertical-align: middle;\n",
       "    }\n",
       "\n",
       "    .dataframe tbody tr th {\n",
       "        vertical-align: top;\n",
       "    }\n",
       "\n",
       "    .dataframe thead th {\n",
       "        text-align: right;\n",
       "    }\n",
       "</style>\n",
       "<table border=\"1\" class=\"dataframe\">\n",
       "  <thead>\n",
       "    <tr style=\"text-align: right;\">\n",
       "      <th></th>\n",
       "      <th>subreddit</th>\n",
       "      <th>selftext</th>\n",
       "      <th>title</th>\n",
       "      <th>created_utc</th>\n",
       "      <th>combined_text</th>\n",
       "      <th>word_count</th>\n",
       "      <th>char_count</th>\n",
       "    </tr>\n",
       "  </thead>\n",
       "  <tbody>\n",
       "    <tr>\n",
       "      <th>0</th>\n",
       "      <td>books</td>\n",
       "      <td>And it's not because I'm a slow reader - quite...</td>\n",
       "      <td>It's taken me all year, but I finally finished...</td>\n",
       "      <td>1577836753</td>\n",
       "      <td>And it's not because I'm a slow reader - quite...</td>\n",
       "      <td>197</td>\n",
       "      <td>1058</td>\n",
       "    </tr>\n",
       "    <tr>\n",
       "      <th>1</th>\n",
       "      <td>books</td>\n",
       "      <td>Those that scroll through reddit AND read so m...</td>\n",
       "      <td>How do you find the time?</td>\n",
       "      <td>1577835261</td>\n",
       "      <td>Those that scroll through reddit AND read so m...</td>\n",
       "      <td>28</td>\n",
       "      <td>138</td>\n",
       "    </tr>\n",
       "    <tr>\n",
       "      <th>2</th>\n",
       "      <td>books</td>\n",
       "      <td>What’s everyone’s reading goals for next year?...</td>\n",
       "      <td>2020 reading goals</td>\n",
       "      <td>1577834790</td>\n",
       "      <td>What’s everyone’s reading goals for next year?...</td>\n",
       "      <td>20</td>\n",
       "      <td>114</td>\n",
       "    </tr>\n",
       "    <tr>\n",
       "      <th>3</th>\n",
       "      <td>books</td>\n",
       "      <td>Has anyone read Cage of Souls and what did you...</td>\n",
       "      <td>Cage of Souls - Adrian Tchaikovsky</td>\n",
       "      <td>1577834642</td>\n",
       "      <td>Has anyone read Cage of Souls and what did you...</td>\n",
       "      <td>49</td>\n",
       "      <td>255</td>\n",
       "    </tr>\n",
       "    <tr>\n",
       "      <th>4</th>\n",
       "      <td>books</td>\n",
       "      <td>For the past few years, one of my New Year's r...</td>\n",
       "      <td>Tracking the Books I Read In 2019</td>\n",
       "      <td>1577834517</td>\n",
       "      <td>For the past few years, one of my New Year's r...</td>\n",
       "      <td>633</td>\n",
       "      <td>3820</td>\n",
       "    </tr>\n",
       "  </tbody>\n",
       "</table>\n",
       "</div>"
      ],
      "text/plain": [
       "  subreddit                                           selftext  \\\n",
       "0     books  And it's not because I'm a slow reader - quite...   \n",
       "1     books  Those that scroll through reddit AND read so m...   \n",
       "2     books  What’s everyone’s reading goals for next year?...   \n",
       "3     books  Has anyone read Cage of Souls and what did you...   \n",
       "4     books  For the past few years, one of my New Year's r...   \n",
       "\n",
       "                                               title  created_utc  \\\n",
       "0  It's taken me all year, but I finally finished...   1577836753   \n",
       "1                          How do you find the time?   1577835261   \n",
       "2                                 2020 reading goals   1577834790   \n",
       "3                 Cage of Souls - Adrian Tchaikovsky   1577834642   \n",
       "4                  Tracking the Books I Read In 2019   1577834517   \n",
       "\n",
       "                                       combined_text  word_count  char_count  \n",
       "0  And it's not because I'm a slow reader - quite...         197        1058  \n",
       "1  Those that scroll through reddit AND read so m...          28         138  \n",
       "2  What’s everyone’s reading goals for next year?...          20         114  \n",
       "3  Has anyone read Cage of Souls and what did you...          49         255  \n",
       "4  For the past few years, one of my New Year's r...         633        3820  "
      ]
     },
     "execution_count": 3,
     "metadata": {},
     "output_type": "execute_result"
    }
   ],
   "source": [
    "data.head()"
   ]
  },
  {
   "cell_type": "code",
   "execution_count": 4,
   "id": "43015015-0849-4c44-83cc-8501dcb61f91",
   "metadata": {},
   "outputs": [],
   "source": [
    "# dependent variable is the column subreddit; transform it to 1 = datascience / 0 = books\n",
    "data['y'] = data['subreddit'].map({'datascience':1, 'books':0})"
   ]
  },
  {
   "cell_type": "code",
   "execution_count": 5,
   "id": "236b6b91-3cd2-46b4-a233-c535470f5528",
   "metadata": {},
   "outputs": [],
   "source": [
    "# define X and y\n",
    "X = data['combined_text']\n",
    "y = data['y']"
   ]
  },
  {
   "cell_type": "code",
   "execution_count": 6,
   "id": "3a658812-6a65-482b-8901-a059280136c8",
   "metadata": {},
   "outputs": [
    {
     "data": {
      "text/plain": [
       "0    0.5\n",
       "1    0.5\n",
       "Name: y, dtype: float64"
      ]
     },
     "execution_count": 6,
     "metadata": {},
     "output_type": "execute_result"
    }
   ],
   "source": [
    "# baseline accuracy\n",
    "y.value_counts(normalize=True) # baseline = 50% if taking combined_text as data"
   ]
  },
  {
   "cell_type": "markdown",
   "id": "6ffede7c-8ab0-4ca3-97c7-2f69533b4b3c",
   "metadata": {},
   "source": [
    "---"
   ]
  },
  {
   "cell_type": "markdown",
   "id": "b7b9bc68-f6ca-4e36-a021-356f64c49cc1",
   "metadata": {},
   "source": [
    "### **1. Count Vectorizer - Logistic Regression**"
   ]
  },
  {
   "cell_type": "code",
   "execution_count": 7,
   "id": "85799c22-6ed7-4569-982c-ec6fcf209b43",
   "metadata": {},
   "outputs": [],
   "source": [
    "# Split the data into the training and testing sets.\n",
    "X_train, X_test, y_train, y_test = train_test_split(X,\n",
    "                                                    y,\n",
    "                                                    test_size=0.33,\n",
    "                                                    stratify=y,\n",
    "                                                    random_state=42)"
   ]
  },
  {
   "cell_type": "code",
   "execution_count": 9,
   "id": "d71ed8dd-ea81-447a-98e8-386d1a9be5bf",
   "metadata": {},
   "outputs": [],
   "source": [
    "count = 0 # count variable for specifying the model ID\n",
    "\n",
    "model_params = {} # dictionary that will contain model parameters"
   ]
  },
  {
   "cell_type": "code",
   "execution_count": 12,
   "id": "e1cecf70-afb9-4957-89bf-49d2450f3bfe",
   "metadata": {},
   "outputs": [
    {
     "name": "stdout",
     "output_type": "stream",
     "text": [
      "Fitting 5 folds for each of 3 candidates, totalling 15 fits\n"
     ]
    },
    {
     "data": {
      "text/html": [
       "<div>\n",
       "<style scoped>\n",
       "    .dataframe tbody tr th:only-of-type {\n",
       "        vertical-align: middle;\n",
       "    }\n",
       "\n",
       "    .dataframe tbody tr th {\n",
       "        vertical-align: top;\n",
       "    }\n",
       "\n",
       "    .dataframe thead th {\n",
       "        text-align: right;\n",
       "    }\n",
       "</style>\n",
       "<table border=\"1\" class=\"dataframe\">\n",
       "  <thead>\n",
       "    <tr style=\"text-align: right;\">\n",
       "      <th></th>\n",
       "      <th>cvec__max_df</th>\n",
       "      <th>cvec__max_features</th>\n",
       "      <th>cvec__min_df</th>\n",
       "      <th>cvec__ngram_range</th>\n",
       "      <th>cvec__stop_words</th>\n",
       "      <th>logreg__C</th>\n",
       "      <th>logreg__penalty</th>\n",
       "      <th>score</th>\n",
       "    </tr>\n",
       "  </thead>\n",
       "  <tbody>\n",
       "    <tr>\n",
       "      <th>model_1</th>\n",
       "      <td>0.5</td>\n",
       "      <td>8000</td>\n",
       "      <td>3</td>\n",
       "      <td>(1, 1)</td>\n",
       "      <td>NaN</td>\n",
       "      <td>1</td>\n",
       "      <td>l2</td>\n",
       "      <td>0.95537</td>\n",
       "    </tr>\n",
       "    <tr>\n",
       "      <th>model_2</th>\n",
       "      <td>0.5</td>\n",
       "      <td>8000</td>\n",
       "      <td>3</td>\n",
       "      <td>(1, 1)</td>\n",
       "      <td>NaN</td>\n",
       "      <td>1</td>\n",
       "      <td>l2</td>\n",
       "      <td>0.95537</td>\n",
       "    </tr>\n",
       "  </tbody>\n",
       "</table>\n",
       "</div>"
      ],
      "text/plain": [
       "         cvec__max_df  cvec__max_features  cvec__min_df cvec__ngram_range  \\\n",
       "model_1           0.5                8000             3            (1, 1)   \n",
       "model_2           0.5                8000             3            (1, 1)   \n",
       "\n",
       "         cvec__stop_words  logreg__C logreg__penalty    score  \n",
       "model_1               NaN          1              l2  0.95537  \n",
       "model_2               NaN          1              l2  0.95537  "
      ]
     },
     "execution_count": 12,
     "metadata": {},
     "output_type": "execute_result"
    }
   ],
   "source": [
    "## set modeling scaffolding ##\n",
    "\n",
    "model_params = model_params # each time it's run, the model_params dict gets overwritten\n",
    "count = count # overwriting count with each run\n",
    "\n",
    "# define a pipeline with 2 steps: CountVectorizer & LogisticRegression\n",
    "pipe = Pipeline([\n",
    "    ('cvec', CountVectorizer()),\n",
    "    ('logreg', LogisticRegression(solver='liblinear'))\n",
    "])\n",
    "\n",
    "# set up the grid search parameters\n",
    "params = {\n",
    "    'cvec__max_features' : [7000,8000,9000],\n",
    "    'cvec__min_df' : [3],\n",
    "    'cvec__max_df' : [0.5],\n",
    "    'cvec__ngram_range' : [(1,1)],\n",
    "    'logreg__penalty' : ['l2'],\n",
    "    'logreg__C' : [1]\n",
    "}\n",
    "\n",
    "# create grid search\n",
    "gs = GridSearchCV(pipe, param_grid=params, cv=5, n_jobs=6, verbose=1)\n",
    "\n",
    "# fit the model\n",
    "gs.fit(X_train, y_train)\n",
    "\n",
    "# increase the count variable\n",
    "count += 1\n",
    "\n",
    "# add to the dictionary the best_params_ dictionary, in addition to the 'score'\n",
    "gs.best_params_['score'] = gs.best_score_\n",
    "model_params[f'model_{count}'] = gs.best_params_\n",
    "\n",
    "# transform the params dictionary into a data frame, putting the model ID as the index\n",
    "model_df = pd.DataFrame.from_dict(model_params, orient='index')\n",
    "\n",
    "# print the data frame\n",
    "model_df"
   ]
  },
  {
   "cell_type": "code",
   "execution_count": 91,
   "id": "39304ca1-c150-4e76-8d02-d98d173f4a50",
   "metadata": {},
   "outputs": [],
   "source": [
    "## Fit the best performing model - after tuning the hyperparameters several times in the cell above ##\n",
    "\n",
    "# instantiate a cvec vectorizer\n",
    "cvec = CountVectorizer(max_df = 0.5, min_df=3, max_features=8000, ngram_range=(1,1))\n",
    "\n",
    "# apply cvec to the train data\n",
    "X_train = cvec.fit_transform(X_train)\n",
    "\n",
    "# apply cvec to the test data\n",
    "X_test = cvec.transform(X_test)"
   ]
  },
  {
   "cell_type": "code",
   "execution_count": 92,
   "id": "7c19648b-c37a-4ed3-a01b-8d90b3dbc251",
   "metadata": {},
   "outputs": [
    {
     "data": {
      "text/plain": [
       "LogisticRegression(C=1, solver='liblinear')"
      ]
     },
     "execution_count": 92,
     "metadata": {},
     "output_type": "execute_result"
    }
   ],
   "source": [
    "# instantiate model\n",
    "logreg = LogisticRegression(solver='liblinear', penalty='l2', C=1)\n",
    "\n",
    "# fit model to the train data\n",
    "logreg.fit(X_train, y_train)"
   ]
  },
  {
   "cell_type": "code",
   "execution_count": 93,
   "id": "37e8d96f-061f-4d0c-919e-05e43e47e65c",
   "metadata": {},
   "outputs": [
    {
     "data": {
      "text/plain": [
       "0.9868859585567309"
      ]
     },
     "execution_count": 93,
     "metadata": {},
     "output_type": "execute_result"
    }
   ],
   "source": [
    "# training score\n",
    "logreg.score(X_train, y_train)"
   ]
  },
  {
   "cell_type": "code",
   "execution_count": 94,
   "id": "a3ba7ee9-9918-415b-9ace-d07649bc5412",
   "metadata": {},
   "outputs": [
    {
     "data": {
      "text/plain": [
       "0.9583701088555457"
      ]
     },
     "execution_count": 94,
     "metadata": {},
     "output_type": "execute_result"
    }
   ],
   "source": [
    "# testing score\n",
    "logreg.score(X_test, y_test)"
   ]
  },
  {
   "cell_type": "code",
   "execution_count": 16,
   "id": "ef3f7cfc-e9d9-452a-a791-805435df4713",
   "metadata": {},
   "outputs": [
    {
     "data": {
      "text/html": [
       "<div>\n",
       "<style scoped>\n",
       "    .dataframe tbody tr th:only-of-type {\n",
       "        vertical-align: middle;\n",
       "    }\n",
       "\n",
       "    .dataframe tbody tr th {\n",
       "        vertical-align: top;\n",
       "    }\n",
       "\n",
       "    .dataframe thead th {\n",
       "        text-align: right;\n",
       "    }\n",
       "</style>\n",
       "<table border=\"1\" class=\"dataframe\">\n",
       "  <thead>\n",
       "    <tr style=\"text-align: right;\">\n",
       "      <th></th>\n",
       "      <th>score</th>\n",
       "      <th>value</th>\n",
       "    </tr>\n",
       "  </thead>\n",
       "  <tbody>\n",
       "    <tr>\n",
       "      <th>0</th>\n",
       "      <td>accuracy</td>\n",
       "      <td>0.958370</td>\n",
       "    </tr>\n",
       "    <tr>\n",
       "      <th>1</th>\n",
       "      <td>missclassification</td>\n",
       "      <td>0.041630</td>\n",
       "    </tr>\n",
       "    <tr>\n",
       "      <th>2</th>\n",
       "      <td>specificity</td>\n",
       "      <td>0.982642</td>\n",
       "    </tr>\n",
       "    <tr>\n",
       "      <th>3</th>\n",
       "      <td>recall_sensitivity</td>\n",
       "      <td>0.934098</td>\n",
       "    </tr>\n",
       "    <tr>\n",
       "      <th>4</th>\n",
       "      <td>precision</td>\n",
       "      <td>0.981756</td>\n",
       "    </tr>\n",
       "    <tr>\n",
       "      <th>5</th>\n",
       "      <td>f1</td>\n",
       "      <td>0.957335</td>\n",
       "    </tr>\n",
       "  </tbody>\n",
       "</table>\n",
       "</div>"
      ],
      "text/plain": [
       "                score     value\n",
       "0            accuracy  0.958370\n",
       "1  missclassification  0.041630\n",
       "2         specificity  0.982642\n",
       "3  recall_sensitivity  0.934098\n",
       "4           precision  0.981756\n",
       "5                  f1  0.957335"
      ]
     },
     "execution_count": 16,
     "metadata": {},
     "output_type": "execute_result"
    }
   ],
   "source": [
    "# table of model scores - uses the function.py file in the code folder\n",
    "model_scores(X_test, y_test, logreg)"
   ]
  },
  {
   "cell_type": "code",
   "execution_count": 17,
   "id": "d005da03-ffc7-43e8-95ed-d1edb915018e",
   "metadata": {},
   "outputs": [],
   "source": [
    "# save the table into a csv file\n",
    "df = model_scores(X_test, y_test, logreg)\n",
    "df['vectorizer'] = 'CountVectorizer'\n",
    "df['model'] = 'LogisticRegression'\n",
    "df.to_csv('../model_scores/df_cvec_logreg.csv', index=False)"
   ]
  },
  {
   "cell_type": "code",
   "execution_count": 18,
   "id": "a0272fd2-fae3-4234-9842-0c539f8ec293",
   "metadata": {},
   "outputs": [
    {
     "data": {
      "image/png": "[encoded data removed]",
      "text/plain": [
       "<Figure size 432x288 with 2 Axes>"
      ]
     },
     "metadata": {
      "needs_background": "light"
     },
     "output_type": "display_data"
    }
   ],
   "source": [
    "# plot and save the confusion matrix of the model\n",
    "plt.rcParams.update({'font.size': 14});\n",
    "plot_confusion_matrix(logreg, X_test, y_test, cmap='Blues', values_format='d');\n",
    "plt.title('LogisticRegression & CountVectorizer - confusion matrix',fontsize=14);\n",
    "plt.xlabel('predicted subreddit', fontsize=14);\n",
    "plt.ylabel('actual subreddit', fontsize=14);\n",
    "plt.savefig('../images/df_cvec_logreg.jpeg');"
   ]
  },
  {
   "cell_type": "markdown",
   "id": "3670cffc-b5d9-4fa7-a561-f909dcb13b85",
   "metadata": {},
   "source": [
    "---"
   ]
  },
  {
   "cell_type": "markdown",
   "id": "09c49505-85f7-4d2a-9acf-cf5d67c9131c",
   "metadata": {},
   "source": [
    "### **2. TF-IDF Vectorizer - Logistic Regression**"
   ]
  },
  {
   "cell_type": "code",
   "execution_count": 7,
   "id": "3977628d-707e-4c2d-ba5b-8db944683231",
   "metadata": {},
   "outputs": [],
   "source": [
    "# Split the data into the training and testing sets.\n",
    "X_train, X_test, y_train, y_test = train_test_split(X,\n",
    "                                                    y,\n",
    "                                                    test_size=0.33,\n",
    "                                                    stratify=y,\n",
    "                                                    random_state=42)"
   ]
  },
  {
   "cell_type": "code",
   "execution_count": 8,
   "id": "b0b34e8d-2fd9-42a6-818c-f6a0619598fe",
   "metadata": {},
   "outputs": [],
   "source": [
    "count = 0 # count variable for specifying the model ID\n",
    "\n",
    "model_params = {} # dictionary that will contain model parameters"
   ]
  },
  {
   "cell_type": "code",
   "execution_count": 34,
   "id": "ff7f134a-97df-4a68-8b10-8fd7e7bae692",
   "metadata": {},
   "outputs": [
    {
     "name": "stdout",
     "output_type": "stream",
     "text": [
      "Fitting 5 folds for each of 1 candidates, totalling 5 fits\n"
     ]
    },
    {
     "data": {
      "text/html": [
       "<div>\n",
       "<style scoped>\n",
       "    .dataframe tbody tr th:only-of-type {\n",
       "        vertical-align: middle;\n",
       "    }\n",
       "\n",
       "    .dataframe tbody tr th {\n",
       "        vertical-align: top;\n",
       "    }\n",
       "\n",
       "    .dataframe thead th {\n",
       "        text-align: right;\n",
       "    }\n",
       "</style>\n",
       "<table border=\"1\" class=\"dataframe\">\n",
       "  <thead>\n",
       "    <tr style=\"text-align: right;\">\n",
       "      <th></th>\n",
       "      <th>logreg__C</th>\n",
       "      <th>logreg__penalty</th>\n",
       "      <th>tvec__max_df</th>\n",
       "      <th>tvec__max_features</th>\n",
       "      <th>tvec__min_df</th>\n",
       "      <th>tvec__ngram_range</th>\n",
       "      <th>score</th>\n",
       "    </tr>\n",
       "  </thead>\n",
       "  <tbody>\n",
       "    <tr>\n",
       "      <th>model_1</th>\n",
       "      <td>1</td>\n",
       "      <td>l2</td>\n",
       "      <td>0.5</td>\n",
       "      <td>9000</td>\n",
       "      <td>2</td>\n",
       "      <td>(1, 1)</td>\n",
       "      <td>0.970431</td>\n",
       "    </tr>\n",
       "  </tbody>\n",
       "</table>\n",
       "</div>"
      ],
      "text/plain": [
       "         logreg__C logreg__penalty  tvec__max_df  tvec__max_features  \\\n",
       "model_1          1              l2           0.5                9000   \n",
       "\n",
       "         tvec__min_df tvec__ngram_range     score  \n",
       "model_1             2            (1, 1)  0.970431  "
      ]
     },
     "execution_count": 34,
     "metadata": {},
     "output_type": "execute_result"
    }
   ],
   "source": [
    "## set modeling scaffolding ##\n",
    "\n",
    "model_params = model_params # each time it's run, the model_params dict gets overwritten\n",
    "count = count # overwriting count with each run\n",
    "\n",
    "# defining a pipeline with 2 steps: CountVectorizer & LogisticRegression\n",
    "pipe = Pipeline([\n",
    "    ('tvec', TfidfVectorizer()),\n",
    "    ('logreg', LogisticRegression(solver='liblinear'))\n",
    "])\n",
    "\n",
    "# set up the grid search parameters\n",
    "params = {\n",
    "    'tvec__max_features' : [9000],\n",
    "    'tvec__min_df' : [2],\n",
    "    'tvec__max_df' : [0.5],\n",
    "    'tvec__ngram_range' : [(1,1)],\n",
    "    'logreg__penalty' : ['l2'],\n",
    "    'logreg__C' : [1]\n",
    "}\n",
    "\n",
    "# create grid search\n",
    "gs = GridSearchCV(pipe, param_grid=params, cv=5, n_jobs=6, verbose=1)\n",
    "\n",
    "# fitting the model\n",
    "gs.fit(X_train, y_train)\n",
    "\n",
    "# increase the count variable\n",
    "count += 1\n",
    "\n",
    "# adding to our dictionary the best_params_ dictionary, in addition to the 'score'\n",
    "gs.best_params_['score'] = gs.best_score_\n",
    "model_params[f'model_{count}'] = gs.best_params_\n",
    "\n",
    "# transform the params dictionary into a data frame, putting the model ID as the index\n",
    "model_df = pd.DataFrame.from_dict(model_params, orient='index')\n",
    "\n",
    "# print the data frame\n",
    "model_df"
   ]
  },
  {
   "cell_type": "code",
   "execution_count": 9,
   "id": "41ad4d99-bf3e-42c5-9d52-bbd52a473b4c",
   "metadata": {},
   "outputs": [],
   "source": [
    "# instantiate vectorizer\n",
    "tvec = TfidfVectorizer(max_df = 0.5, min_df=2, max_features=9000, ngram_range=(1,1))\n",
    "\n",
    "# apply cvec to the train data\n",
    "X_train = tvec.fit_transform(X_train)\n",
    "\n",
    "# apply cvec to the test data\n",
    "X_test = tvec.transform(X_test)"
   ]
  },
  {
   "cell_type": "code",
   "execution_count": 10,
   "id": "e8359e8d-e555-48bf-99f9-ccf69aaca54b",
   "metadata": {},
   "outputs": [
    {
     "data": {
      "text/plain": [
       "LogisticRegression(C=1, solver='liblinear')"
      ]
     },
     "execution_count": 10,
     "metadata": {},
     "output_type": "execute_result"
    }
   ],
   "source": [
    "# instantiate model\n",
    "logreg = LogisticRegression(solver='liblinear', penalty='l2', C=1)\n",
    "\n",
    "# fit the model to the train data\n",
    "logreg.fit(X_train, y_train)"
   ]
  },
  {
   "cell_type": "code",
   "execution_count": 11,
   "id": "8fa1ef59-9c70-4b47-826f-55b4904543c3",
   "metadata": {},
   "outputs": [
    {
     "data": {
      "text/plain": [
       "0.9783364729749312"
      ]
     },
     "execution_count": 11,
     "metadata": {},
     "output_type": "execute_result"
    }
   ],
   "source": [
    "# training score\n",
    "logreg.score(X_train, y_train)"
   ]
  },
  {
   "cell_type": "code",
   "execution_count": 12,
   "id": "f41b6419-042a-4142-a1e1-57fb6ab9e618",
   "metadata": {},
   "outputs": [
    {
     "data": {
      "text/plain": [
       "0.9616063548102383"
      ]
     },
     "execution_count": 12,
     "metadata": {},
     "output_type": "execute_result"
    }
   ],
   "source": [
    "# testing score\n",
    "logreg.score(X_test, y_test)"
   ]
  },
  {
   "cell_type": "code",
   "execution_count": 13,
   "id": "df42e5f7-b022-40a4-bb2d-7cb91a4f61c7",
   "metadata": {},
   "outputs": [
    {
     "data": {
      "text/html": [
       "<div>\n",
       "<style scoped>\n",
       "    .dataframe tbody tr th:only-of-type {\n",
       "        vertical-align: middle;\n",
       "    }\n",
       "\n",
       "    .dataframe tbody tr th {\n",
       "        vertical-align: top;\n",
       "    }\n",
       "\n",
       "    .dataframe thead th {\n",
       "        text-align: right;\n",
       "    }\n",
       "</style>\n",
       "<table border=\"1\" class=\"dataframe\">\n",
       "  <thead>\n",
       "    <tr style=\"text-align: right;\">\n",
       "      <th></th>\n",
       "      <th>score</th>\n",
       "      <th>value</th>\n",
       "    </tr>\n",
       "  </thead>\n",
       "  <tbody>\n",
       "    <tr>\n",
       "      <th>0</th>\n",
       "      <td>accuracy</td>\n",
       "      <td>0.961606</td>\n",
       "    </tr>\n",
       "    <tr>\n",
       "      <th>1</th>\n",
       "      <td>missclassification</td>\n",
       "      <td>0.038394</td>\n",
       "    </tr>\n",
       "    <tr>\n",
       "      <th>2</th>\n",
       "      <td>specificity</td>\n",
       "      <td>0.981465</td>\n",
       "    </tr>\n",
       "    <tr>\n",
       "      <th>3</th>\n",
       "      <td>recall_sensitivity</td>\n",
       "      <td>0.941748</td>\n",
       "    </tr>\n",
       "    <tr>\n",
       "      <th>4</th>\n",
       "      <td>precision</td>\n",
       "      <td>0.980699</td>\n",
       "    </tr>\n",
       "    <tr>\n",
       "      <th>5</th>\n",
       "      <td>f1</td>\n",
       "      <td>0.960828</td>\n",
       "    </tr>\n",
       "  </tbody>\n",
       "</table>\n",
       "</div>"
      ],
      "text/plain": [
       "                score     value\n",
       "0            accuracy  0.961606\n",
       "1  missclassification  0.038394\n",
       "2         specificity  0.981465\n",
       "3  recall_sensitivity  0.941748\n",
       "4           precision  0.980699\n",
       "5                  f1  0.960828"
      ]
     },
     "execution_count": 13,
     "metadata": {},
     "output_type": "execute_result"
    }
   ],
   "source": [
    "# table of model scores\n",
    "model_scores(X_test, y_test, logreg)"
   ]
  },
  {
   "cell_type": "code",
   "execution_count": 14,
   "id": "fb040ae5-989c-4e75-a7aa-4fb60cfd31c4",
   "metadata": {},
   "outputs": [],
   "source": [
    "# save table to file\n",
    "df = model_scores(X_test, y_test, logreg)\n",
    "df['vectorizer'] = 'TF-IDFVectorizer'\n",
    "df['model'] = 'LogisticRegression'\n",
    "df.to_csv('../model_scores/df_tvec_logreg.csv', index=False)"
   ]
  },
  {
   "cell_type": "code",
   "execution_count": 15,
   "id": "7da12df9-6fc8-4375-9a1e-01a04861600f",
   "metadata": {},
   "outputs": [
    {
     "data": {
      "image/png": "[encoded data removed]",
      "text/plain": [
       "<Figure size 432x288 with 2 Axes>"
      ]
     },
     "metadata": {
      "needs_background": "light"
     },
     "output_type": "display_data"
    }
   ],
   "source": [
    "# plot and save confusion matrix\n",
    "plt.rcParams.update({'font.size': 14}); # looked up in google how to change the font size on a sns heatmap\n",
    "plot_confusion_matrix(logreg, X_test, y_test, cmap='Blues', values_format='d');\n",
    "plt.title('LogisticRegression & TF-IDFVectorizer - confusion matrix',fontsize=14);\n",
    "plt.xlabel('predicted subreddit', fontsize=14);\n",
    "plt.ylabel('actual subreddit', fontsize=14);\n",
    "plt.savefig('../images/df_tvec_logreg.jpeg');"
   ]
  },
  {
   "cell_type": "markdown",
   "id": "1f50285b-8ee8-4ed6-ab6d-fcf3704d00a5",
   "metadata": {},
   "source": [
    "---"
   ]
  },
  {
   "cell_type": "markdown",
   "id": "11099155-28cf-4ad4-a68d-27ca30fe6486",
   "metadata": {},
   "source": [
    "### **3. Count Vectorizer - Random Forest**"
   ]
  },
  {
   "cell_type": "code",
   "execution_count": 141,
   "id": "d2b9a174-b38b-4f81-abee-f99470bcc227",
   "metadata": {},
   "outputs": [],
   "source": [
    "# Split the data into the training and testing sets.\n",
    "X_train, X_test, y_train, y_test = train_test_split(X,\n",
    "                                                    y,\n",
    "                                                    test_size=0.33,\n",
    "                                                    stratify=y,\n",
    "                                                    random_state=42)"
   ]
  },
  {
   "cell_type": "code",
   "execution_count": 31,
   "id": "201e6317-ccf6-4913-bb1b-04ecf1de17eb",
   "metadata": {},
   "outputs": [],
   "source": [
    "count = 0 # count variable for specifying the model ID\n",
    "\n",
    "model_params = {} # dictionary that will contain model parameters"
   ]
  },
  {
   "cell_type": "code",
   "execution_count": 33,
   "id": "89de7425-9faa-4392-b42c-db1b77c77766",
   "metadata": {},
   "outputs": [
    {
     "name": "stdout",
     "output_type": "stream",
     "text": [
      "Fitting 5 folds for each of 6 candidates, totalling 30 fits\n"
     ]
    },
    {
     "data": {
      "text/html": [
       "<div>\n",
       "<style scoped>\n",
       "    .dataframe tbody tr th:only-of-type {\n",
       "        vertical-align: middle;\n",
       "    }\n",
       "\n",
       "    .dataframe tbody tr th {\n",
       "        vertical-align: top;\n",
       "    }\n",
       "\n",
       "    .dataframe thead th {\n",
       "        text-align: right;\n",
       "    }\n",
       "</style>\n",
       "<table border=\"1\" class=\"dataframe\">\n",
       "  <thead>\n",
       "    <tr style=\"text-align: right;\">\n",
       "      <th></th>\n",
       "      <th>cvec__max_df</th>\n",
       "      <th>cvec__max_features</th>\n",
       "      <th>cvec__min_df</th>\n",
       "      <th>cvec__ngram_range</th>\n",
       "      <th>rf__ccp_alpha</th>\n",
       "      <th>rf__max_depth</th>\n",
       "      <th>rf__min_samples_split</th>\n",
       "      <th>rf__n_estimators</th>\n",
       "      <th>score</th>\n",
       "    </tr>\n",
       "  </thead>\n",
       "  <tbody>\n",
       "    <tr>\n",
       "      <th>model_1</th>\n",
       "      <td>0.4</td>\n",
       "      <td>6000</td>\n",
       "      <td>4</td>\n",
       "      <td>(1, 1)</td>\n",
       "      <td>0.01</td>\n",
       "      <td>7</td>\n",
       "      <td>2</td>\n",
       "      <td>50</td>\n",
       "      <td>0.893712</td>\n",
       "    </tr>\n",
       "    <tr>\n",
       "      <th>model_2</th>\n",
       "      <td>0.4</td>\n",
       "      <td>6000</td>\n",
       "      <td>4</td>\n",
       "      <td>(1, 1)</td>\n",
       "      <td>0.01</td>\n",
       "      <td>7</td>\n",
       "      <td>2</td>\n",
       "      <td>50</td>\n",
       "      <td>0.893712</td>\n",
       "    </tr>\n",
       "  </tbody>\n",
       "</table>\n",
       "</div>"
      ],
      "text/plain": [
       "         cvec__max_df  cvec__max_features  cvec__min_df cvec__ngram_range  \\\n",
       "model_1           0.4                6000             4            (1, 1)   \n",
       "model_2           0.4                6000             4            (1, 1)   \n",
       "\n",
       "         rf__ccp_alpha  rf__max_depth  rf__min_samples_split  \\\n",
       "model_1           0.01              7                      2   \n",
       "model_2           0.01              7                      2   \n",
       "\n",
       "         rf__n_estimators     score  \n",
       "model_1                50  0.893712  \n",
       "model_2                50  0.893712  "
      ]
     },
     "execution_count": 33,
     "metadata": {},
     "output_type": "execute_result"
    }
   ],
   "source": [
    "## set modeling scaffolding ##\n",
    "\n",
    "model_params = model_params # each time it's run, the model_params dict gets overwritten\n",
    "count = count # overwriting count with each run\n",
    "\n",
    "# defining a pipeline with 2 steps: CountVectorizer & LogisticRegression\n",
    "pipe = Pipeline([\n",
    "    ('cvec', CountVectorizer()),\n",
    "    ('rf', RandomForestClassifier(random_state=42))\n",
    "])\n",
    "\n",
    "# set up the grid search parameters\n",
    "params = {\n",
    "    'cvec__max_features' : [6000],\n",
    "    'cvec__min_df' : [4],\n",
    "    'cvec__max_df' : [0.4],\n",
    "    'cvec__ngram_range' : [(1,1)],\n",
    "    'rf__n_estimators' : [50, 70],\n",
    "    'rf__max_depth' : [7],\n",
    "    'rf__min_samples_split' : [2],\n",
    "    'rf__ccp_alpha' : [0.01]\n",
    "}\n",
    "\n",
    "# create grid search\n",
    "gs = GridSearchCV(pipe, param_grid=params, cv=5, n_jobs=6, verbose=1)\n",
    "\n",
    "# fitting the model\n",
    "gs.fit(X_train, y_train)\n",
    "\n",
    "# increase the count variable\n",
    "count += 1\n",
    "\n",
    "# adding to our dictionary the best_params_ dictionary, in addition to the 'score'\n",
    "gs.best_params_['score'] = gs.best_score_\n",
    "model_params[f'model_{count}'] = gs.best_params_\n",
    "\n",
    "# transform the params dictionary into a data frame, putting the model ID as the index\n",
    "model_df = pd.DataFrame.from_dict(model_params, orient='index')\n",
    "\n",
    "# print the data frame\n",
    "model_df"
   ]
  },
  {
   "cell_type": "code",
   "execution_count": 142,
   "id": "0ccf8940-e63f-4fce-84af-7971212c70eb",
   "metadata": {},
   "outputs": [],
   "source": [
    "# instantiating vectorizer\n",
    "cvec = CountVectorizer(max_df = 0.4, min_df=4, max_features=6000, ngram_range=(1,1))\n",
    "\n",
    "# apply cvec to the train data\n",
    "X_train = cvec.fit_transform(X_train)\n",
    "\n",
    "# apply cvec to the test data\n",
    "X_test = cvec.transform(X_test)"
   ]
  },
  {
   "cell_type": "code",
   "execution_count": 143,
   "id": "48f29ccc-a74e-48d1-bcd6-a37fd9aa088a",
   "metadata": {},
   "outputs": [
    {
     "data": {
      "text/plain": [
       "RandomForestClassifier(ccp_alpha=0.01, max_depth=7, n_estimators=50,\n",
       "                       random_state=42)"
      ]
     },
     "execution_count": 143,
     "metadata": {},
     "output_type": "execute_result"
    }
   ],
   "source": [
    "# instantiate model\n",
    "rf = RandomForestClassifier(random_state=42, ccp_alpha=0.01, max_depth=7, min_samples_split=2, \n",
    "                           n_estimators=50)\n",
    "\n",
    "# fit the model to the train data\n",
    "rf.fit(X_train, y_train)"
   ]
  },
  {
   "cell_type": "code",
   "execution_count": 144,
   "id": "182aabfb-9338-45bb-8379-1190cb7dd7da",
   "metadata": {},
   "outputs": [
    {
     "data": {
      "text/plain": [
       "0.8969714534125489"
      ]
     },
     "execution_count": 144,
     "metadata": {},
     "output_type": "execute_result"
    }
   ],
   "source": [
    "# training score\n",
    "rf.score(X_train, y_train)"
   ]
  },
  {
   "cell_type": "code",
   "execution_count": 145,
   "id": "49f3fbc7-ce11-4fb6-b59d-68265cea91ca",
   "metadata": {},
   "outputs": [
    {
     "data": {
      "text/plain": [
       "0.8939393939393939"
      ]
     },
     "execution_count": 145,
     "metadata": {},
     "output_type": "execute_result"
    }
   ],
   "source": [
    "# testing score\n",
    "rf.score(X_test, y_test)"
   ]
  },
  {
   "cell_type": "code",
   "execution_count": 146,
   "id": "f214c3d4-955b-41fd-9e2f-08e9deddd5f1",
   "metadata": {},
   "outputs": [
    {
     "data": {
      "text/html": [
       "<div>\n",
       "<style scoped>\n",
       "    .dataframe tbody tr th:only-of-type {\n",
       "        vertical-align: middle;\n",
       "    }\n",
       "\n",
       "    .dataframe tbody tr th {\n",
       "        vertical-align: top;\n",
       "    }\n",
       "\n",
       "    .dataframe thead th {\n",
       "        text-align: right;\n",
       "    }\n",
       "</style>\n",
       "<table border=\"1\" class=\"dataframe\">\n",
       "  <thead>\n",
       "    <tr style=\"text-align: right;\">\n",
       "      <th></th>\n",
       "      <th>score</th>\n",
       "      <th>value</th>\n",
       "    </tr>\n",
       "  </thead>\n",
       "  <tbody>\n",
       "    <tr>\n",
       "      <th>0</th>\n",
       "      <td>accuracy</td>\n",
       "      <td>0.893939</td>\n",
       "    </tr>\n",
       "    <tr>\n",
       "      <th>1</th>\n",
       "      <td>missclassification</td>\n",
       "      <td>0.106061</td>\n",
       "    </tr>\n",
       "    <tr>\n",
       "      <th>2</th>\n",
       "      <td>specificity</td>\n",
       "      <td>0.988820</td>\n",
       "    </tr>\n",
       "    <tr>\n",
       "      <th>3</th>\n",
       "      <td>recall_sensitivity</td>\n",
       "      <td>0.799059</td>\n",
       "    </tr>\n",
       "    <tr>\n",
       "      <th>4</th>\n",
       "      <td>precision</td>\n",
       "      <td>0.986202</td>\n",
       "    </tr>\n",
       "    <tr>\n",
       "      <th>5</th>\n",
       "      <td>f1</td>\n",
       "      <td>0.882821</td>\n",
       "    </tr>\n",
       "  </tbody>\n",
       "</table>\n",
       "</div>"
      ],
      "text/plain": [
       "                score     value\n",
       "0            accuracy  0.893939\n",
       "1  missclassification  0.106061\n",
       "2         specificity  0.988820\n",
       "3  recall_sensitivity  0.799059\n",
       "4           precision  0.986202\n",
       "5                  f1  0.882821"
      ]
     },
     "execution_count": 146,
     "metadata": {},
     "output_type": "execute_result"
    }
   ],
   "source": [
    "# table of model scores\n",
    "model_scores(X_test, y_test, rf)"
   ]
  },
  {
   "cell_type": "code",
   "execution_count": 147,
   "id": "c505977c-d3c0-4f82-82da-88d0bd41ee2e",
   "metadata": {},
   "outputs": [],
   "source": [
    "# save table\n",
    "df = model_scores(X_test, y_test, rf)\n",
    "df['vectorizer'] = 'CountVectorizer'\n",
    "df['model'] = 'RandomForest'\n",
    "df.to_csv('../model_scores/df_cvec_rf.csv', index=False)"
   ]
  },
  {
   "cell_type": "code",
   "execution_count": 148,
   "id": "dcec3ea7-525f-4f70-b628-a1d4ecd45c97",
   "metadata": {},
   "outputs": [
    {
     "data": {
      "image/png": "[encoded data removed]",
      "text/plain": [
       "<Figure size 432x288 with 2 Axes>"
      ]
     },
     "metadata": {
      "needs_background": "light"
     },
     "output_type": "display_data"
    }
   ],
   "source": [
    "# plot and save confusion matrix\n",
    "plt.rcParams.update({'font.size': 14});\n",
    "plot_confusion_matrix(rf, X_test, y_test, cmap='Greens', values_format='d');\n",
    "plt.title('RandomForest & CountVectorizer - confusion matrix',fontsize=14);\n",
    "plt.xlabel('predicted subreddit', fontsize=14);\n",
    "plt.ylabel('actual subreddit', fontsize=14);\n",
    "plt.savefig('../images/df_cvec_rf.jpeg');"
   ]
  },
  {
   "cell_type": "markdown",
   "id": "4b6858e6-3514-4f72-8c44-1cdaf545e48d",
   "metadata": {},
   "source": [
    "---"
   ]
  },
  {
   "cell_type": "markdown",
   "id": "5765bedd-a9c3-4acd-8ca1-87fb670c7282",
   "metadata": {},
   "source": [
    "### **4. TF-IDF Vectorizer - Random Forest**"
   ]
  },
  {
   "cell_type": "code",
   "execution_count": 57,
   "id": "ada2b5a9-016b-406d-b4b1-b57e1176d3fe",
   "metadata": {},
   "outputs": [],
   "source": [
    "# Split the data into the training and testing sets.\n",
    "X_train, X_test, y_train, y_test = train_test_split(X,\n",
    "                                                    y,\n",
    "                                                    test_size=0.33,\n",
    "                                                    stratify=y,\n",
    "                                                    random_state=42)"
   ]
  },
  {
   "cell_type": "code",
   "execution_count": 42,
   "id": "dacc0595-94be-4823-a701-ba561fa9f85f",
   "metadata": {},
   "outputs": [],
   "source": [
    "count = 0 # count variable for specifying the model ID\n",
    "\n",
    "model_params = {} # dictionary that will contain model parameters"
   ]
  },
  {
   "cell_type": "code",
   "execution_count": 44,
   "id": "eb2734ee-e44d-40ee-be01-d0bde6005c54",
   "metadata": {},
   "outputs": [
    {
     "name": "stdout",
     "output_type": "stream",
     "text": [
      "Fitting 5 folds for each of 2 candidates, totalling 10 fits\n"
     ]
    },
    {
     "data": {
      "text/html": [
       "<div>\n",
       "<style scoped>\n",
       "    .dataframe tbody tr th:only-of-type {\n",
       "        vertical-align: middle;\n",
       "    }\n",
       "\n",
       "    .dataframe tbody tr th {\n",
       "        vertical-align: top;\n",
       "    }\n",
       "\n",
       "    .dataframe thead th {\n",
       "        text-align: right;\n",
       "    }\n",
       "</style>\n",
       "<table border=\"1\" class=\"dataframe\">\n",
       "  <thead>\n",
       "    <tr style=\"text-align: right;\">\n",
       "      <th></th>\n",
       "      <th>rf__ccp_alpha</th>\n",
       "      <th>rf__max_depth</th>\n",
       "      <th>rf__min_samples_split</th>\n",
       "      <th>rf__n_estimators</th>\n",
       "      <th>tvec__max_df</th>\n",
       "      <th>tvec__max_features</th>\n",
       "      <th>tvec__min_df</th>\n",
       "      <th>tvec__ngram_range</th>\n",
       "      <th>score</th>\n",
       "    </tr>\n",
       "  </thead>\n",
       "  <tbody>\n",
       "    <tr>\n",
       "      <th>model_1</th>\n",
       "      <td>0.01</td>\n",
       "      <td>7</td>\n",
       "      <td>3</td>\n",
       "      <td>70</td>\n",
       "      <td>0.4</td>\n",
       "      <td>6000</td>\n",
       "      <td>4</td>\n",
       "      <td>(1, 1)</td>\n",
       "      <td>0.887626</td>\n",
       "    </tr>\n",
       "    <tr>\n",
       "      <th>model_2</th>\n",
       "      <td>0.01</td>\n",
       "      <td>7</td>\n",
       "      <td>3</td>\n",
       "      <td>70</td>\n",
       "      <td>0.4</td>\n",
       "      <td>6000</td>\n",
       "      <td>4</td>\n",
       "      <td>(1, 1)</td>\n",
       "      <td>0.887626</td>\n",
       "    </tr>\n",
       "  </tbody>\n",
       "</table>\n",
       "</div>"
      ],
      "text/plain": [
       "         rf__ccp_alpha  rf__max_depth  rf__min_samples_split  \\\n",
       "model_1           0.01              7                      3   \n",
       "model_2           0.01              7                      3   \n",
       "\n",
       "         rf__n_estimators  tvec__max_df  tvec__max_features  tvec__min_df  \\\n",
       "model_1                70           0.4                6000             4   \n",
       "model_2                70           0.4                6000             4   \n",
       "\n",
       "        tvec__ngram_range     score  \n",
       "model_1            (1, 1)  0.887626  \n",
       "model_2            (1, 1)  0.887626  "
      ]
     },
     "execution_count": 44,
     "metadata": {},
     "output_type": "execute_result"
    }
   ],
   "source": [
    "## set modeling scaffolding ##\n",
    "\n",
    "model_params = model_params # each time it's run, the model_params dict gets overwritten\n",
    "count = count # overwriting count with each run\n",
    "\n",
    "# defining a pipeline with 2 steps: CountVectorizer & LogisticRegression\n",
    "pipe = Pipeline([\n",
    "    ('tvec', TfidfVectorizer()),\n",
    "    ('rf', RandomForestClassifier(random_state=42))\n",
    "])\n",
    "\n",
    "# set up the grid search parameters\n",
    "params = {\n",
    "    'tvec__max_features' : [6000],\n",
    "    'tvec__min_df' : [4],\n",
    "    'tvec__max_df' : [0.4],\n",
    "    'tvec__ngram_range' : [(1,1)],\n",
    "    'rf__n_estimators' : [70,90],\n",
    "    'rf__max_depth' : [7],\n",
    "    'rf__min_samples_split' : [3],\n",
    "    'rf__ccp_alpha' : [0.01]\n",
    "}\n",
    "\n",
    "# create grid search\n",
    "gs = GridSearchCV(pipe, param_grid=params, cv=5, n_jobs=6, verbose=1)\n",
    "\n",
    "# fitting the model\n",
    "gs.fit(X_train, y_train)\n",
    "\n",
    "# increase the count variable\n",
    "count += 1\n",
    "\n",
    "# adding to our dictionary the best_params_ dictionary, in addition to the 'score'\n",
    "gs.best_params_['score'] = gs.best_score_\n",
    "model_params[f'model_{count}'] = gs.best_params_\n",
    "\n",
    "# transform the params dictionary into a data frame, putting the model ID as the index\n",
    "model_df = pd.DataFrame.from_dict(model_params, orient='index')\n",
    "\n",
    "# print the data frame\n",
    "model_df"
   ]
  },
  {
   "cell_type": "code",
   "execution_count": 58,
   "id": "cbb336ea-0309-4ef5-a888-9229c4c7856c",
   "metadata": {},
   "outputs": [],
   "source": [
    "# instantiate vectorizer\n",
    "tvec = TfidfVectorizer(max_df = 0.4, min_df=4, max_features=7000, ngram_range=(1,1))\n",
    "\n",
    "# apply cvec to the train data\n",
    "X_train = tvec.fit_transform(X_train)\n",
    "\n",
    "# apply cvec to the test data\n",
    "X_test = tvec.transform(X_test)"
   ]
  },
  {
   "cell_type": "code",
   "execution_count": 59,
   "id": "41e3060b-c5d1-402f-b194-7756ac843570",
   "metadata": {},
   "outputs": [
    {
     "data": {
      "text/plain": [
       "RandomForestClassifier(ccp_alpha=0.01, max_depth=7, min_samples_split=3,\n",
       "                       n_estimators=70, random_state=42)"
      ]
     },
     "execution_count": 59,
     "metadata": {},
     "output_type": "execute_result"
    }
   ],
   "source": [
    "# instantiate model\n",
    "rf = RandomForestClassifier(random_state=42, ccp_alpha=0.01, max_depth=7, min_samples_split=3, \n",
    "                           n_estimators=70)\n",
    "\n",
    "# fit the model to the train data\n",
    "rf.fit(X_train, y_train)"
   ]
  },
  {
   "cell_type": "code",
   "execution_count": 60,
   "id": "21e48775-3a4d-4440-a86d-bbf34b621035",
   "metadata": {},
   "outputs": [
    {
     "data": {
      "text/plain": [
       "0.8573551263001485"
      ]
     },
     "execution_count": 60,
     "metadata": {},
     "output_type": "execute_result"
    }
   ],
   "source": [
    "# training score\n",
    "rf.score(X_train, y_train)"
   ]
  },
  {
   "cell_type": "code",
   "execution_count": 61,
   "id": "9ff27868-1fa8-415a-bbb7-33b172256dde",
   "metadata": {},
   "outputs": [
    {
     "data": {
      "text/plain": [
       "0.8528347406513872"
      ]
     },
     "execution_count": 61,
     "metadata": {},
     "output_type": "execute_result"
    }
   ],
   "source": [
    "# testing score\n",
    "rf.score(X_test, y_test)"
   ]
  },
  {
   "cell_type": "code",
   "execution_count": 154,
   "id": "93940dac-5cac-49f6-8b53-471a52b31b51",
   "metadata": {},
   "outputs": [
    {
     "data": {
      "text/html": [
       "<div>\n",
       "<style scoped>\n",
       "    .dataframe tbody tr th:only-of-type {\n",
       "        vertical-align: middle;\n",
       "    }\n",
       "\n",
       "    .dataframe tbody tr th {\n",
       "        vertical-align: top;\n",
       "    }\n",
       "\n",
       "    .dataframe thead th {\n",
       "        text-align: right;\n",
       "    }\n",
       "</style>\n",
       "<table border=\"1\" class=\"dataframe\">\n",
       "  <thead>\n",
       "    <tr style=\"text-align: right;\">\n",
       "      <th></th>\n",
       "      <th>score</th>\n",
       "      <th>value</th>\n",
       "    </tr>\n",
       "  </thead>\n",
       "  <tbody>\n",
       "    <tr>\n",
       "      <th>0</th>\n",
       "      <td>accuracy</td>\n",
       "      <td>0.865254</td>\n",
       "    </tr>\n",
       "    <tr>\n",
       "      <th>1</th>\n",
       "      <td>missclassification</td>\n",
       "      <td>0.134746</td>\n",
       "    </tr>\n",
       "    <tr>\n",
       "      <th>2</th>\n",
       "      <td>specificity</td>\n",
       "      <td>0.995587</td>\n",
       "    </tr>\n",
       "    <tr>\n",
       "      <th>3</th>\n",
       "      <td>recall_sensitivity</td>\n",
       "      <td>0.734922</td>\n",
       "    </tr>\n",
       "    <tr>\n",
       "      <th>4</th>\n",
       "      <td>precision</td>\n",
       "      <td>0.994031</td>\n",
       "    </tr>\n",
       "    <tr>\n",
       "      <th>5</th>\n",
       "      <td>f1</td>\n",
       "      <td>0.845061</td>\n",
       "    </tr>\n",
       "  </tbody>\n",
       "</table>\n",
       "</div>"
      ],
      "text/plain": [
       "                score     value\n",
       "0            accuracy  0.865254\n",
       "1  missclassification  0.134746\n",
       "2         specificity  0.995587\n",
       "3  recall_sensitivity  0.734922\n",
       "4           precision  0.994031\n",
       "5                  f1  0.845061"
      ]
     },
     "execution_count": 154,
     "metadata": {},
     "output_type": "execute_result"
    }
   ],
   "source": [
    "# table of model scores\n",
    "model_scores(X_test, y_test, rf)"
   ]
  },
  {
   "cell_type": "code",
   "execution_count": 155,
   "id": "1c8412bf-b9f9-4c83-9a1d-d8ae8f66d0b2",
   "metadata": {},
   "outputs": [],
   "source": [
    "# save table\n",
    "df = model_scores(X_test, y_test, rf)\n",
    "df['vectorizer'] = 'TF-IDFVectorizer'\n",
    "df['model'] = 'RandomForest'\n",
    "df.to_csv('../model_scores/df_tvec_rf.csv', index=False)"
   ]
  },
  {
   "cell_type": "code",
   "execution_count": 156,
   "id": "d6e90049-b862-4d0a-bcc3-bce4dce3f84d",
   "metadata": {},
   "outputs": [
    {
     "data": {
      "image/png": "[encoded data removed]",
      "text/plain": [
       "<Figure size 432x288 with 2 Axes>"
      ]
     },
     "metadata": {
      "needs_background": "light"
     },
     "output_type": "display_data"
    }
   ],
   "source": [
    "# plot and save confusion matrix\n",
    "plt.rcParams.update({'font.size': 14});\n",
    "plot_confusion_matrix(rf, X_test, y_test, cmap='Greens', values_format='d');\n",
    "plt.title('RandomForest & TF-IDFVectorizer - confusion matrix',fontsize=14);\n",
    "plt.xlabel('predicted subreddit', fontsize=14);\n",
    "plt.ylabel('actual subreddit', fontsize=14);\n",
    "plt.savefig('../images/df_tvec_rf.jpeg');"
   ]
  },
  {
   "cell_type": "markdown",
   "id": "e6810e3a-78cf-4dab-a717-fb9dfae78e84",
   "metadata": {},
   "source": [
    "---"
   ]
  },
  {
   "cell_type": "markdown",
   "id": "9ccdbdd5-7364-4970-b750-0debf4e2f19b",
   "metadata": {},
   "source": [
    "### **5. Count Vectorizer - Naive Bayes**"
   ]
  },
  {
   "cell_type": "code",
   "execution_count": 157,
   "id": "97910fc2-9cc4-4b8a-a865-762621b8fe3c",
   "metadata": {},
   "outputs": [],
   "source": [
    "# Split the data into the training and testing sets.\n",
    "X_train, X_test, y_train, y_test = train_test_split(X,\n",
    "                                                    y,\n",
    "                                                    test_size=0.33,\n",
    "                                                    stratify=y,\n",
    "                                                    random_state=42)"
   ]
  },
  {
   "cell_type": "code",
   "execution_count": 53,
   "id": "e24a8037-9e23-4ac0-b316-a03448bbc6cc",
   "metadata": {},
   "outputs": [],
   "source": [
    "count = 0 # count variable for specifying the model ID\n",
    "\n",
    "model_params = {} # dictionary that will contain model parameters"
   ]
  },
  {
   "cell_type": "code",
   "execution_count": 56,
   "id": "4b79e0a5-f930-45d7-846b-f86af15d3828",
   "metadata": {},
   "outputs": [
    {
     "name": "stdout",
     "output_type": "stream",
     "text": [
      "Fitting 5 folds for each of 4 candidates, totalling 20 fits\n"
     ]
    },
    {
     "data": {
      "text/html": [
       "<div>\n",
       "<style scoped>\n",
       "    .dataframe tbody tr th:only-of-type {\n",
       "        vertical-align: middle;\n",
       "    }\n",
       "\n",
       "    .dataframe tbody tr th {\n",
       "        vertical-align: top;\n",
       "    }\n",
       "\n",
       "    .dataframe thead th {\n",
       "        text-align: right;\n",
       "    }\n",
       "</style>\n",
       "<table border=\"1\" class=\"dataframe\">\n",
       "  <thead>\n",
       "    <tr style=\"text-align: right;\">\n",
       "      <th></th>\n",
       "      <th>cvec__max_df</th>\n",
       "      <th>cvec__max_features</th>\n",
       "      <th>cvec__min_df</th>\n",
       "      <th>cvec__ngram_range</th>\n",
       "      <th>score</th>\n",
       "    </tr>\n",
       "  </thead>\n",
       "  <tbody>\n",
       "    <tr>\n",
       "      <th>model_1</th>\n",
       "      <td>0.4</td>\n",
       "      <td>6000</td>\n",
       "      <td>4</td>\n",
       "      <td>(1, 1)</td>\n",
       "      <td>0.949500</td>\n",
       "    </tr>\n",
       "    <tr>\n",
       "      <th>model_2</th>\n",
       "      <td>0.4</td>\n",
       "      <td>8000</td>\n",
       "      <td>4</td>\n",
       "      <td>(1, 1)</td>\n",
       "      <td>0.950515</td>\n",
       "    </tr>\n",
       "    <tr>\n",
       "      <th>model_3</th>\n",
       "      <td>0.4</td>\n",
       "      <td>9000</td>\n",
       "      <td>4</td>\n",
       "      <td>(1, 1)</td>\n",
       "      <td>0.951457</td>\n",
       "    </tr>\n",
       "  </tbody>\n",
       "</table>\n",
       "</div>"
      ],
      "text/plain": [
       "         cvec__max_df  cvec__max_features  cvec__min_df cvec__ngram_range  \\\n",
       "model_1           0.4                6000             4            (1, 1)   \n",
       "model_2           0.4                8000             4            (1, 1)   \n",
       "model_3           0.4                9000             4            (1, 1)   \n",
       "\n",
       "            score  \n",
       "model_1  0.949500  \n",
       "model_2  0.950515  \n",
       "model_3  0.951457  "
      ]
     },
     "execution_count": 56,
     "metadata": {},
     "output_type": "execute_result"
    }
   ],
   "source": [
    "## set modeling scaffolding ##\n",
    "\n",
    "model_params = model_params # each time it's run, the model_params dict gets overwritten\n",
    "count = count # overwriting count with each run\n",
    "\n",
    "# defining a pipeline with 2 steps: CountVectorizer & LogisticRegression\n",
    "pipe = Pipeline([\n",
    "    ('cvec', CountVectorizer()),\n",
    "    ('nb', MultinomialNB())\n",
    "])\n",
    "\n",
    "# set up the grid search parameters\n",
    "params = {\n",
    "    'cvec__max_features' : [7000,8000,9000,10000],\n",
    "    'cvec__min_df' : [4],\n",
    "    'cvec__max_df' : [0.4],\n",
    "    'cvec__ngram_range' : [(1,1)]\n",
    "}\n",
    "\n",
    "# create grid search\n",
    "gs = GridSearchCV(pipe, param_grid=params, cv=5, n_jobs=6, verbose=1)\n",
    "\n",
    "# fitting the model\n",
    "gs.fit(X_train, y_train)\n",
    "\n",
    "# increase the count variable\n",
    "count += 1\n",
    "\n",
    "# adding to our dictionary the best_params_ dictionary, in addition to the 'score'\n",
    "gs.best_params_['score'] = gs.best_score_\n",
    "model_params[f'model_{count}'] = gs.best_params_\n",
    "\n",
    "# transform the params dictionary into a data frame, putting the model ID as the index\n",
    "model_df = pd.DataFrame.from_dict(model_params, orient='index')\n",
    "\n",
    "# print the data frame\n",
    "model_df"
   ]
  },
  {
   "cell_type": "code",
   "execution_count": 158,
   "id": "919e8b99-6aec-4248-93c5-fa56ed41d589",
   "metadata": {},
   "outputs": [],
   "source": [
    "# instantiate vectorizer\n",
    "cvec = CountVectorizer(max_df = 0.4, min_df=4, max_features=9000, ngram_range=(1,1))\n",
    "\n",
    "# apply to the train data\n",
    "X_train = cvec.fit_transform(X_train)\n",
    "\n",
    "# apply to the test data\n",
    "X_test = cvec.transform(X_test)"
   ]
  },
  {
   "cell_type": "code",
   "execution_count": 159,
   "id": "5773cef7-fb23-4d51-85e8-ef82c254707f",
   "metadata": {},
   "outputs": [
    {
     "data": {
      "text/plain": [
       "MultinomialNB()"
      ]
     },
     "execution_count": 159,
     "metadata": {},
     "output_type": "execute_result"
    }
   ],
   "source": [
    "# instantiate model\n",
    "nb = MultinomialNB()\n",
    "\n",
    "# fit the model to the train data\n",
    "nb.fit(X_train, y_train)"
   ]
  },
  {
   "cell_type": "code",
   "execution_count": 160,
   "id": "67629ec3-f34b-4fb7-bd93-04f025ec59cc",
   "metadata": {},
   "outputs": [
    {
     "data": {
      "text/plain": [
       "0.9602231560643385"
      ]
     },
     "execution_count": 160,
     "metadata": {},
     "output_type": "execute_result"
    }
   ],
   "source": [
    "# training score\n",
    "nb.score(X_train, y_train)"
   ]
  },
  {
   "cell_type": "code",
   "execution_count": 161,
   "id": "5c865256-b539-4b4a-b244-5ffe00ff2e08",
   "metadata": {},
   "outputs": [
    {
     "data": {
      "text/plain": [
       "0.9558693733451015"
      ]
     },
     "execution_count": 161,
     "metadata": {},
     "output_type": "execute_result"
    }
   ],
   "source": [
    "# testing score\n",
    "nb.score(X_test, y_test)"
   ]
  },
  {
   "cell_type": "code",
   "execution_count": 162,
   "id": "d33086c0-eae1-40ab-aab6-a5d7e148f240",
   "metadata": {},
   "outputs": [
    {
     "data": {
      "text/html": [
       "<div>\n",
       "<style scoped>\n",
       "    .dataframe tbody tr th:only-of-type {\n",
       "        vertical-align: middle;\n",
       "    }\n",
       "\n",
       "    .dataframe tbody tr th {\n",
       "        vertical-align: top;\n",
       "    }\n",
       "\n",
       "    .dataframe thead th {\n",
       "        text-align: right;\n",
       "    }\n",
       "</style>\n",
       "<table border=\"1\" class=\"dataframe\">\n",
       "  <thead>\n",
       "    <tr style=\"text-align: right;\">\n",
       "      <th></th>\n",
       "      <th>score</th>\n",
       "      <th>value</th>\n",
       "    </tr>\n",
       "  </thead>\n",
       "  <tbody>\n",
       "    <tr>\n",
       "      <th>0</th>\n",
       "      <td>accuracy</td>\n",
       "      <td>0.955869</td>\n",
       "    </tr>\n",
       "    <tr>\n",
       "      <th>1</th>\n",
       "      <td>missclassification</td>\n",
       "      <td>0.044131</td>\n",
       "    </tr>\n",
       "    <tr>\n",
       "      <th>2</th>\n",
       "      <td>specificity</td>\n",
       "      <td>0.936452</td>\n",
       "    </tr>\n",
       "    <tr>\n",
       "      <th>3</th>\n",
       "      <td>recall_sensitivity</td>\n",
       "      <td>0.975287</td>\n",
       "    </tr>\n",
       "    <tr>\n",
       "      <th>4</th>\n",
       "      <td>precision</td>\n",
       "      <td>0.938828</td>\n",
       "    </tr>\n",
       "    <tr>\n",
       "      <th>5</th>\n",
       "      <td>f1</td>\n",
       "      <td>0.956710</td>\n",
       "    </tr>\n",
       "  </tbody>\n",
       "</table>\n",
       "</div>"
      ],
      "text/plain": [
       "                score     value\n",
       "0            accuracy  0.955869\n",
       "1  missclassification  0.044131\n",
       "2         specificity  0.936452\n",
       "3  recall_sensitivity  0.975287\n",
       "4           precision  0.938828\n",
       "5                  f1  0.956710"
      ]
     },
     "execution_count": 162,
     "metadata": {},
     "output_type": "execute_result"
    }
   ],
   "source": [
    "# table of model scores\n",
    "model_scores(X_test, y_test, nb)"
   ]
  },
  {
   "cell_type": "code",
   "execution_count": 163,
   "id": "f99ae164-bd22-4192-a103-7c846f47e0cf",
   "metadata": {},
   "outputs": [],
   "source": [
    "# save table\n",
    "df = model_scores(X_test, y_test, nb)\n",
    "df['vectorizer'] = 'CountVectorizer'\n",
    "df['model'] = 'NaiveBayes'\n",
    "df.to_csv('../model_scores/df_cvec_nb.csv', index=False)"
   ]
  },
  {
   "cell_type": "code",
   "execution_count": 25,
   "id": "c964ad3a-68b7-4973-ad27-d09fd2c68bfc",
   "metadata": {},
   "outputs": [
    {
     "data": {
      "image/png": "[encoded data removed]",
      "text/plain": [
       "<Figure size 432x288 with 2 Axes>"
      ]
     },
     "metadata": {
      "needs_background": "light"
     },
     "output_type": "display_data"
    }
   ],
   "source": [
    "# plot and save confusion matrix\n",
    "plt.rcParams.update({'font.size': 14});\n",
    "plot_confusion_matrix(nb, X_test, y_test, cmap='Oranges', values_format='d');\n",
    "plt.title('Naive Bayes & CountVectorizer - confusion matrix',fontsize=14);\n",
    "plt.xlabel('predicted subreddit', fontsize=14);\n",
    "plt.ylabel('actual subreddit', fontsize=14);\n",
    "plt.savefig('../images/df_cvec_nb.jpeg');"
   ]
  },
  {
   "cell_type": "markdown",
   "id": "c4634a53-d6bb-4b25-be17-25022a8fbaa1",
   "metadata": {},
   "source": [
    "---"
   ]
  },
  {
   "cell_type": "markdown",
   "id": "8fcf20b8-09f3-49a8-9b16-b4dca3eb7905",
   "metadata": {},
   "source": [
    "### **6. TF-IDF Vectorizer - Naive Bayes**"
   ]
  },
  {
   "cell_type": "code",
   "execution_count": 16,
   "id": "dee2ecf4-ece5-44a3-bea5-0d569c6bb99c",
   "metadata": {},
   "outputs": [],
   "source": [
    "# Split the data into the training and testing sets.\n",
    "X_train, X_test, y_train, y_test = train_test_split(X,\n",
    "                                                    y,\n",
    "                                                    test_size=0.33,\n",
    "                                                    stratify=y,\n",
    "                                                    random_state=42)"
   ]
  },
  {
   "cell_type": "code",
   "execution_count": 17,
   "id": "575ec11b-c777-4299-88d9-f5a496eca7ee",
   "metadata": {},
   "outputs": [],
   "source": [
    "count = 0 # count variable for specifying the model ID\n",
    "\n",
    "model_params = {} # dictionary that will contain model parameters"
   ]
  },
  {
   "cell_type": "code",
   "execution_count": 68,
   "id": "751f940c-31ac-4d76-ad6d-ec23b82ef6b0",
   "metadata": {},
   "outputs": [
    {
     "name": "stdout",
     "output_type": "stream",
     "text": [
      "Fitting 5 folds for each of 4 candidates, totalling 20 fits\n"
     ]
    },
    {
     "data": {
      "text/html": [
       "<div>\n",
       "<style scoped>\n",
       "    .dataframe tbody tr th:only-of-type {\n",
       "        vertical-align: middle;\n",
       "    }\n",
       "\n",
       "    .dataframe tbody tr th {\n",
       "        vertical-align: top;\n",
       "    }\n",
       "\n",
       "    .dataframe thead th {\n",
       "        text-align: right;\n",
       "    }\n",
       "</style>\n",
       "<table border=\"1\" class=\"dataframe\">\n",
       "  <thead>\n",
       "    <tr style=\"text-align: right;\">\n",
       "      <th></th>\n",
       "      <th>tvec__max_df</th>\n",
       "      <th>tvec__max_features</th>\n",
       "      <th>tvec__min_df</th>\n",
       "      <th>tvec__ngram_range</th>\n",
       "      <th>score</th>\n",
       "    </tr>\n",
       "  </thead>\n",
       "  <tbody>\n",
       "    <tr>\n",
       "      <th>model_1</th>\n",
       "      <td>0.5</td>\n",
       "      <td>9000</td>\n",
       "      <td>3</td>\n",
       "      <td>(1, 1)</td>\n",
       "      <td>0.955441</td>\n",
       "    </tr>\n",
       "    <tr>\n",
       "      <th>model_2</th>\n",
       "      <td>0.6</td>\n",
       "      <td>9000</td>\n",
       "      <td>3</td>\n",
       "      <td>(1, 1)</td>\n",
       "      <td>0.955949</td>\n",
       "    </tr>\n",
       "  </tbody>\n",
       "</table>\n",
       "</div>"
      ],
      "text/plain": [
       "         tvec__max_df  tvec__max_features  tvec__min_df tvec__ngram_range  \\\n",
       "model_1           0.5                9000             3            (1, 1)   \n",
       "model_2           0.6                9000             3            (1, 1)   \n",
       "\n",
       "            score  \n",
       "model_1  0.955441  \n",
       "model_2  0.955949  "
      ]
     },
     "execution_count": 68,
     "metadata": {},
     "output_type": "execute_result"
    }
   ],
   "source": [
    "## set modeling scaffolding ##\n",
    "\n",
    "model_params = model_params # each time it's run, the model_params dict gets overwritten\n",
    "count = count # overwriting count with each run\n",
    "\n",
    "# defining a pipeline with 2 steps: CountVectorizer & LogisticRegression\n",
    "pipe = Pipeline([\n",
    "    ('tvec', TfidfVectorizer()),\n",
    "    ('nb', MultinomialNB())\n",
    "])\n",
    "\n",
    "# set up the grid search parameters\n",
    "params = {\n",
    "    'tvec__max_features' : [9000],\n",
    "    'tvec__min_df' : [3],\n",
    "    'tvec__max_df' : [0.6],\n",
    "    'tvec__ngram_range' : [(1,1)]\n",
    "}\n",
    "\n",
    "# create grid search\n",
    "gs = GridSearchCV(pipe, param_grid=params, cv=5, n_jobs=6, verbose=1)\n",
    "\n",
    "# fitting the model\n",
    "gs.fit(X_train, y_train)\n",
    "\n",
    "# increase the count variable\n",
    "count += 1\n",
    "\n",
    "# adding to our dictionary the best_params_ dictionary, in addition to the 'score'\n",
    "gs.best_params_['score'] = gs.best_score_\n",
    "model_params[f'model_{count}'] = gs.best_params_\n",
    "\n",
    "# transform the params dictionary into a data frame, putting the model ID as the index\n",
    "model_df = pd.DataFrame.from_dict(model_params, orient='index')\n",
    "\n",
    "# print the data frame\n",
    "model_df"
   ]
  },
  {
   "cell_type": "code",
   "execution_count": 18,
   "id": "7471974d-8884-4b4e-99fd-fc260cae4e25",
   "metadata": {},
   "outputs": [],
   "source": [
    "# instantiate vectorizer\n",
    "tvec = TfidfVectorizer(max_df = 0.6, min_df=3, max_features=9000, ngram_range=(1,1))\n",
    "\n",
    "# applying tvec to the train data\n",
    "X_train = tvec.fit_transform(X_train)\n",
    "\n",
    "# applying tvec to the test data\n",
    "X_test = tvec.transform(X_test)"
   ]
  },
  {
   "cell_type": "code",
   "execution_count": 19,
   "id": "423f11fc-4f05-42bf-8e42-af02e71e047f",
   "metadata": {},
   "outputs": [
    {
     "data": {
      "text/plain": [
       "MultinomialNB()"
      ]
     },
     "execution_count": 19,
     "metadata": {},
     "output_type": "execute_result"
    }
   ],
   "source": [
    "# instantiate model\n",
    "nb = MultinomialNB()\n",
    "\n",
    "# fit the model to the train data\n",
    "nb.fit(X_train, y_train)"
   ]
  },
  {
   "cell_type": "code",
   "execution_count": 20,
   "id": "beb31d9c-16c4-406e-a9f0-29c6b4ee7ccf",
   "metadata": {},
   "outputs": [
    {
     "data": {
      "text/plain": [
       "0.9681930155049993"
      ]
     },
     "execution_count": 20,
     "metadata": {},
     "output_type": "execute_result"
    }
   ],
   "source": [
    "# training score\n",
    "nb.score(X_train, y_train)"
   ]
  },
  {
   "cell_type": "code",
   "execution_count": 21,
   "id": "7250655b-b0cf-4f0a-8b9f-9bea59013b99",
   "metadata": {},
   "outputs": [
    {
     "data": {
      "text/plain": [
       "0.96087084436599"
      ]
     },
     "execution_count": 21,
     "metadata": {},
     "output_type": "execute_result"
    }
   ],
   "source": [
    "# testing score\n",
    "nb.score(X_test, y_test)"
   ]
  },
  {
   "cell_type": "code",
   "execution_count": 22,
   "id": "15c9cad3-784d-4a1e-a9a1-75f969a6012f",
   "metadata": {},
   "outputs": [
    {
     "data": {
      "text/html": [
       "<div>\n",
       "<style scoped>\n",
       "    .dataframe tbody tr th:only-of-type {\n",
       "        vertical-align: middle;\n",
       "    }\n",
       "\n",
       "    .dataframe tbody tr th {\n",
       "        vertical-align: top;\n",
       "    }\n",
       "\n",
       "    .dataframe thead th {\n",
       "        text-align: right;\n",
       "    }\n",
       "</style>\n",
       "<table border=\"1\" class=\"dataframe\">\n",
       "  <thead>\n",
       "    <tr style=\"text-align: right;\">\n",
       "      <th></th>\n",
       "      <th>score</th>\n",
       "      <th>value</th>\n",
       "    </tr>\n",
       "  </thead>\n",
       "  <tbody>\n",
       "    <tr>\n",
       "      <th>0</th>\n",
       "      <td>accuracy</td>\n",
       "      <td>0.960871</td>\n",
       "    </tr>\n",
       "    <tr>\n",
       "      <th>1</th>\n",
       "      <td>missclassification</td>\n",
       "      <td>0.039129</td>\n",
       "    </tr>\n",
       "    <tr>\n",
       "      <th>2</th>\n",
       "      <td>specificity</td>\n",
       "      <td>0.946161</td>\n",
       "    </tr>\n",
       "    <tr>\n",
       "      <th>3</th>\n",
       "      <td>recall_sensitivity</td>\n",
       "      <td>0.975581</td>\n",
       "    </tr>\n",
       "    <tr>\n",
       "      <th>4</th>\n",
       "      <td>precision</td>\n",
       "      <td>0.947699</td>\n",
       "    </tr>\n",
       "    <tr>\n",
       "      <th>5</th>\n",
       "      <td>f1</td>\n",
       "      <td>0.961438</td>\n",
       "    </tr>\n",
       "  </tbody>\n",
       "</table>\n",
       "</div>"
      ],
      "text/plain": [
       "                score     value\n",
       "0            accuracy  0.960871\n",
       "1  missclassification  0.039129\n",
       "2         specificity  0.946161\n",
       "3  recall_sensitivity  0.975581\n",
       "4           precision  0.947699\n",
       "5                  f1  0.961438"
      ]
     },
     "execution_count": 22,
     "metadata": {},
     "output_type": "execute_result"
    }
   ],
   "source": [
    "# table of model scores\n",
    "model_scores(X_test, y_test, nb)"
   ]
  },
  {
   "cell_type": "code",
   "execution_count": 23,
   "id": "15f6bb27-c797-4541-bade-41c43c87190d",
   "metadata": {},
   "outputs": [],
   "source": [
    "# save table\n",
    "df = model_scores(X_test, y_test, nb)\n",
    "df['vectorizer'] = 'TF-IDFVectorizer'\n",
    "df['model'] = 'NaiveBayes'\n",
    "df.to_csv('../model_scores/df_tvec_nb.csv', index=False)"
   ]
  },
  {
   "cell_type": "code",
   "execution_count": 24,
   "id": "bbff4ee0-b892-4885-af2e-256b1e21b5a8",
   "metadata": {},
   "outputs": [
    {
     "data": {
      "image/png": "[encoded data removed]",
      "text/plain": [
       "<Figure size 432x288 with 2 Axes>"
      ]
     },
     "metadata": {
      "needs_background": "light"
     },
     "output_type": "display_data"
    }
   ],
   "source": [
    "# plot and save confusion matrix\n",
    "plt.rcParams.update({'font.size': 14});\n",
    "plot_confusion_matrix(nb, X_test, y_test, cmap='Oranges', values_format='d');\n",
    "plt.title('Naive Bayes & TF-IDFVectorizer - confusion matrix',fontsize=14);\n",
    "plt.xlabel('predicted subreddit', fontsize=14);\n",
    "plt.ylabel('actual subreddit', fontsize=14);\n",
    "plt.savefig('../images/df_tvec_nb.jpeg');"
   ]
  },
  {
   "cell_type": "markdown",
   "id": "50de651d-073e-4028-8f55-41fa9745ac69",
   "metadata": {},
   "source": [
    "---"
   ]
  },
  {
   "cell_type": "code",
   "execution_count": 121,
   "id": "68391549-646c-42c7-97c7-9520bbbc60f2",
   "metadata": {},
   "outputs": [],
   "source": [
    "# put together all the model scores data frames - saved into the folder model_scores\n",
    "import os\n",
    "import pandas as pd\n",
    "files = os.listdir('../model_scores')"
   ]
  },
  {
   "cell_type": "code",
   "execution_count": 122,
   "id": "1ea64945-f341-4f27-bbe2-5d3b83adb203",
   "metadata": {},
   "outputs": [
    {
     "data": {
      "text/plain": [
       "['.ipynb_checkpoints',\n",
       " '.Rhistory',\n",
       " 'df_cvec_logreg.csv',\n",
       " 'df_cvec_nb.csv',\n",
       " 'df_cvec_rf.csv',\n",
       " 'df_tvec_logreg.csv',\n",
       " 'df_tvec_nb.csv',\n",
       " 'df_tvec_rf.csv']"
      ]
     },
     "execution_count": 122,
     "metadata": {},
     "output_type": "execute_result"
    }
   ],
   "source": [
    "# check the first file(s)\n",
    "files"
   ]
  },
  {
   "cell_type": "code",
   "execution_count": 123,
   "id": "5697034c-2939-436f-a2be-871895d0ab5d",
   "metadata": {},
   "outputs": [],
   "source": [
    "# exclude the unnecessary files\n",
    "files = files[2:]"
   ]
  },
  {
   "cell_type": "code",
   "execution_count": 130,
   "id": "ef7ed0d5-eade-4cab-ad4e-ae1cd4f6baa5",
   "metadata": {},
   "outputs": [],
   "source": [
    "# put the scores in the desired order\n",
    "cols = ['accuracy', 'missclassification', 'recall_sensitivity', 'specificity', 'precision', 'f1']\n",
    "\n",
    "# load the first file\n",
    "model_info = pd.read_csv(f'../model_scores/{files[0]}')\n",
    "# convert to wide format - looked up in google to remind myself how to use the pivot method\n",
    "model_info = model_info.pivot(index=['model','vectorizer'], columns='score', values='value')[cols]\n",
    "\n",
    "# loop to concatenate all data frames together\n",
    "for file in range(1, len(files)):\n",
    "    # load the next file in the line and convert to wide format\n",
    "    df = pd.read_csv(f'../model_scores/{files[file]}')\n",
    "    df = df.pivot(index=['model','vectorizer'], columns='score', values='value')[cols]\n",
    "    # concatenate the data frames together\n",
    "    model_info = pd.concat([model_info, df], axis=0)"
   ]
  },
  {
   "cell_type": "code",
   "execution_count": 131,
   "id": "3b9aa63b-7cd2-48ed-a4a6-e8368628ab80",
   "metadata": {},
   "outputs": [
    {
     "data": {
      "text/html": [
       "<div>\n",
       "<style scoped>\n",
       "    .dataframe tbody tr th:only-of-type {\n",
       "        vertical-align: middle;\n",
       "    }\n",
       "\n",
       "    .dataframe tbody tr th {\n",
       "        vertical-align: top;\n",
       "    }\n",
       "\n",
       "    .dataframe thead th {\n",
       "        text-align: right;\n",
       "    }\n",
       "</style>\n",
       "<table border=\"1\" class=\"dataframe\">\n",
       "  <thead>\n",
       "    <tr style=\"text-align: right;\">\n",
       "      <th></th>\n",
       "      <th>score</th>\n",
       "      <th>accuracy</th>\n",
       "      <th>missclassification</th>\n",
       "      <th>recall_sensitivity</th>\n",
       "      <th>specificity</th>\n",
       "      <th>precision</th>\n",
       "      <th>f1</th>\n",
       "    </tr>\n",
       "    <tr>\n",
       "      <th>model</th>\n",
       "      <th>vectorizer</th>\n",
       "      <th></th>\n",
       "      <th></th>\n",
       "      <th></th>\n",
       "      <th></th>\n",
       "      <th></th>\n",
       "      <th></th>\n",
       "    </tr>\n",
       "  </thead>\n",
       "  <tbody>\n",
       "    <tr>\n",
       "      <th>LogisticRegression</th>\n",
       "      <th>CountVectorizer</th>\n",
       "      <td>0.958370</td>\n",
       "      <td>0.041630</td>\n",
       "      <td>0.934098</td>\n",
       "      <td>0.982642</td>\n",
       "      <td>0.981756</td>\n",
       "      <td>0.957335</td>\n",
       "    </tr>\n",
       "    <tr>\n",
       "      <th>NaiveBayes</th>\n",
       "      <th>CountVectorizer</th>\n",
       "      <td>0.955869</td>\n",
       "      <td>0.044131</td>\n",
       "      <td>0.975287</td>\n",
       "      <td>0.936452</td>\n",
       "      <td>0.938828</td>\n",
       "      <td>0.956710</td>\n",
       "    </tr>\n",
       "    <tr>\n",
       "      <th>RandomForest</th>\n",
       "      <th>CountVectorizer</th>\n",
       "      <td>0.893939</td>\n",
       "      <td>0.106061</td>\n",
       "      <td>0.799059</td>\n",
       "      <td>0.988820</td>\n",
       "      <td>0.986202</td>\n",
       "      <td>0.882821</td>\n",
       "    </tr>\n",
       "    <tr>\n",
       "      <th>LogisticRegression</th>\n",
       "      <th>TF-IDFVectorizer</th>\n",
       "      <td>0.961606</td>\n",
       "      <td>0.038394</td>\n",
       "      <td>0.941748</td>\n",
       "      <td>0.981465</td>\n",
       "      <td>0.980699</td>\n",
       "      <td>0.960828</td>\n",
       "    </tr>\n",
       "    <tr>\n",
       "      <th>NaiveBayes</th>\n",
       "      <th>TF-IDFVectorizer</th>\n",
       "      <td>0.960871</td>\n",
       "      <td>0.039129</td>\n",
       "      <td>0.975581</td>\n",
       "      <td>0.946161</td>\n",
       "      <td>0.947699</td>\n",
       "      <td>0.961438</td>\n",
       "    </tr>\n",
       "    <tr>\n",
       "      <th>RandomForest</th>\n",
       "      <th>TF-IDFVectorizer</th>\n",
       "      <td>0.865254</td>\n",
       "      <td>0.134746</td>\n",
       "      <td>0.734922</td>\n",
       "      <td>0.995587</td>\n",
       "      <td>0.994031</td>\n",
       "      <td>0.845061</td>\n",
       "    </tr>\n",
       "  </tbody>\n",
       "</table>\n",
       "</div>"
      ],
      "text/plain": [
       "score                                accuracy  missclassification  \\\n",
       "model              vectorizer                                       \n",
       "LogisticRegression CountVectorizer   0.958370            0.041630   \n",
       "NaiveBayes         CountVectorizer   0.955869            0.044131   \n",
       "RandomForest       CountVectorizer   0.893939            0.106061   \n",
       "LogisticRegression TF-IDFVectorizer  0.961606            0.038394   \n",
       "NaiveBayes         TF-IDFVectorizer  0.960871            0.039129   \n",
       "RandomForest       TF-IDFVectorizer  0.865254            0.134746   \n",
       "\n",
       "score                                recall_sensitivity  specificity  \\\n",
       "model              vectorizer                                          \n",
       "LogisticRegression CountVectorizer             0.934098     0.982642   \n",
       "NaiveBayes         CountVectorizer             0.975287     0.936452   \n",
       "RandomForest       CountVectorizer             0.799059     0.988820   \n",
       "LogisticRegression TF-IDFVectorizer            0.941748     0.981465   \n",
       "NaiveBayes         TF-IDFVectorizer            0.975581     0.946161   \n",
       "RandomForest       TF-IDFVectorizer            0.734922     0.995587   \n",
       "\n",
       "score                                precision        f1  \n",
       "model              vectorizer                             \n",
       "LogisticRegression CountVectorizer    0.981756  0.957335  \n",
       "NaiveBayes         CountVectorizer    0.938828  0.956710  \n",
       "RandomForest       CountVectorizer    0.986202  0.882821  \n",
       "LogisticRegression TF-IDFVectorizer   0.980699  0.960828  \n",
       "NaiveBayes         TF-IDFVectorizer   0.947699  0.961438  \n",
       "RandomForest       TF-IDFVectorizer   0.994031  0.845061  "
      ]
     },
     "execution_count": 131,
     "metadata": {},
     "output_type": "execute_result"
    }
   ],
   "source": [
    "model_info"
   ]
  },
  {
   "cell_type": "code",
   "execution_count": 132,
   "id": "ce7a17a6-2036-4d8b-b068-05b6145e9389",
   "metadata": {},
   "outputs": [],
   "source": [
    "# save the data frame with model info into the data folder\n",
    "model_info.to_csv('../data/model_info_summary.csv')"
   ]
  },
  {
   "cell_type": "markdown",
   "id": "2c39ba6b-a090-43e6-b411-d214b89901fa",
   "metadata": {},
   "source": [
    "---"
   ]
  }
 ],
 "metadata": {
  "kernelspec": {
   "display_name": "Python 3",
   "language": "python",
   "name": "python3"
  },
  "language_info": {
   "codemirror_mode": {
    "name": "ipython",
    "version": 3
   },
   "file_extension": ".py",
   "mimetype": "text/x-python",
   "name": "python",
   "nbconvert_exporter": "python",
   "pygments_lexer": "ipython3",
   "version": "3.8.8"
  }
 },
 "nbformat": 4,
 "nbformat_minor": 5
}
