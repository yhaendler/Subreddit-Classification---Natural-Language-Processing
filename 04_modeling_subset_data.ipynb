{
 "cells": [
  {
   "cell_type": "markdown",
   "id": "98afd9ca-c465-49e4-b9b0-e6fe6945c565",
   "metadata": {},
   "source": [
    "### **Modeling the subsetted data**"
   ]
  },
  {
   "cell_type": "code",
   "execution_count": 8,
   "id": "0c16f01e-b6d6-4a6f-b102-95247a7f3013",
   "metadata": {},
   "outputs": [],
   "source": [
    "# standard imports\n",
    "import pandas as pd\n",
    "import numpy as np\n",
    "import matplotlib.pyplot as plt\n",
    "import seaborn as sns\n",
    "import os\n",
    "\n",
    "# NLP analysis imports\n",
    "from sklearn.feature_extraction.text import CountVectorizer, TfidfVectorizer\n",
    "\n",
    "# modeling imports\n",
    "from sklearn.model_selection import train_test_split, GridSearchCV, cross_val_score\n",
    "from sklearn.pipeline import Pipeline\n",
    "from sklearn.naive_bayes import MultinomialNB\n",
    "from sklearn.linear_model import LogisticRegression\n",
    "from sklearn.ensemble import RandomForestClassifier, ExtraTreesClassifier\n",
    "from sklearn.svm import SVC\n",
    "from sklearn.metrics import confusion_matrix, plot_confusion_matrix\n",
    "\n",
    "from functions import model_scores # python file with a self-made function (saved in the 'code' folder)"
   ]
  },
  {
   "cell_type": "markdown",
   "id": "0da23bb9-9809-4e69-bca0-0b9d57939f76",
   "metadata": {},
   "source": [
    "---"
   ]
  },
  {
   "cell_type": "code",
   "execution_count": 4,
   "id": "2eedccd6-127b-4e85-a1f6-93f8909a5188",
   "metadata": {},
   "outputs": [
    {
     "data": {
      "text/plain": [
       "(10046, 4)"
      ]
     },
     "execution_count": 4,
     "metadata": {},
     "output_type": "execute_result"
    }
   ],
   "source": [
    "# read the data without the combined_text column\n",
    "data = pd.read_csv('../data/data_reddit.csv')\n",
    "\n",
    "# remove all the posts with 'removed' text\n",
    "data = data[data['selftext']!='[removed]']\n",
    "\n",
    "# remove all the NAs in the selftext column\n",
    "data.dropna(inplace=True)\n",
    "\n",
    "# check the shape of the new, subsetted data frame\n",
    "data.shape"
   ]
  },
  {
   "cell_type": "code",
   "execution_count": 5,
   "id": "43015015-0849-4c44-83cc-8501dcb61f91",
   "metadata": {},
   "outputs": [],
   "source": [
    "# the variable is the column subreddit; 1 = datascience / 0 = books\n",
    "data['y'] = data['subreddit'].map({'datascience':1, 'books':0})"
   ]
  },
  {
   "cell_type": "code",
   "execution_count": 6,
   "id": "236b6b91-3cd2-46b4-a233-c535470f5528",
   "metadata": {},
   "outputs": [],
   "source": [
    "# defining X and y\n",
    "X = data['selftext']\n",
    "y = data['y']"
   ]
  },
  {
   "cell_type": "code",
   "execution_count": 7,
   "id": "3a658812-6a65-482b-8901-a059280136c8",
   "metadata": {},
   "outputs": [
    {
     "data": {
      "text/plain": [
       "1    0.610094\n",
       "0    0.389906\n",
       "Name: y, dtype: float64"
      ]
     },
     "execution_count": 7,
     "metadata": {},
     "output_type": "execute_result"
    }
   ],
   "source": [
    "# baseline accuracy\n",
    "y.value_counts(normalize=True) # baseline = 61%"
   ]
  },
  {
   "cell_type": "markdown",
   "id": "6ffede7c-8ab0-4ca3-97c7-2f69533b4b3c",
   "metadata": {},
   "source": [
    "---"
   ]
  },
  {
   "cell_type": "markdown",
   "id": "09c49505-85f7-4d2a-9acf-cf5d67c9131c",
   "metadata": {},
   "source": [
    "### **1. TF-IDF Vectorizer - Logistic Regression**"
   ]
  },
  {
   "cell_type": "code",
   "execution_count": 9,
   "id": "3977628d-707e-4c2d-ba5b-8db944683231",
   "metadata": {},
   "outputs": [],
   "source": [
    "# Split the data into the training and testing sets.\n",
    "X_train, X_test, y_train, y_test = train_test_split(X,\n",
    "                                                    y,\n",
    "                                                    test_size=0.33,\n",
    "                                                    stratify=y,\n",
    "                                                    random_state=42)"
   ]
  },
  {
   "cell_type": "code",
   "execution_count": 10,
   "id": "b0b34e8d-2fd9-42a6-818c-f6a0619598fe",
   "metadata": {},
   "outputs": [],
   "source": [
    "count = 0 # count variable for specifying the model ID\n",
    "\n",
    "model_params = {} # dictionary that will contain model parameters"
   ]
  },
  {
   "cell_type": "code",
   "execution_count": 16,
   "id": "ff7f134a-97df-4a68-8b10-8fd7e7bae692",
   "metadata": {},
   "outputs": [
    {
     "name": "stdout",
     "output_type": "stream",
     "text": [
      "Fitting 5 folds for each of 12 candidates, totalling 60 fits\n"
     ]
    },
    {
     "data": {
      "text/html": [
       "<div>\n",
       "<style scoped>\n",
       "    .dataframe tbody tr th:only-of-type {\n",
       "        vertical-align: middle;\n",
       "    }\n",
       "\n",
       "    .dataframe tbody tr th {\n",
       "        vertical-align: top;\n",
       "    }\n",
       "\n",
       "    .dataframe thead th {\n",
       "        text-align: right;\n",
       "    }\n",
       "</style>\n",
       "<table border=\"1\" class=\"dataframe\">\n",
       "  <thead>\n",
       "    <tr style=\"text-align: right;\">\n",
       "      <th></th>\n",
       "      <th>logreg__C</th>\n",
       "      <th>logreg__penalty</th>\n",
       "      <th>tvec__max_df</th>\n",
       "      <th>tvec__max_features</th>\n",
       "      <th>tvec__min_df</th>\n",
       "      <th>tvec__ngram_range</th>\n",
       "      <th>score</th>\n",
       "    </tr>\n",
       "  </thead>\n",
       "  <tbody>\n",
       "    <tr>\n",
       "      <th>model_1</th>\n",
       "      <td>1</td>\n",
       "      <td>l2</td>\n",
       "      <td>0.5</td>\n",
       "      <td>5000</td>\n",
       "      <td>2</td>\n",
       "      <td>(1, 1)</td>\n",
       "      <td>0.971025</td>\n",
       "    </tr>\n",
       "    <tr>\n",
       "      <th>model_2</th>\n",
       "      <td>10</td>\n",
       "      <td>l2</td>\n",
       "      <td>0.5</td>\n",
       "      <td>6000</td>\n",
       "      <td>2</td>\n",
       "      <td>(1, 1)</td>\n",
       "      <td>0.975780</td>\n",
       "    </tr>\n",
       "    <tr>\n",
       "      <th>model_3</th>\n",
       "      <td>10</td>\n",
       "      <td>l2</td>\n",
       "      <td>0.5</td>\n",
       "      <td>6000</td>\n",
       "      <td>3</td>\n",
       "      <td>(1, 1)</td>\n",
       "      <td>0.975929</td>\n",
       "    </tr>\n",
       "    <tr>\n",
       "      <th>model_4</th>\n",
       "      <td>20</td>\n",
       "      <td>l2</td>\n",
       "      <td>0.5</td>\n",
       "      <td>6000</td>\n",
       "      <td>2</td>\n",
       "      <td>(1, 1)</td>\n",
       "      <td>0.976077</td>\n",
       "    </tr>\n",
       "    <tr>\n",
       "      <th>model_5</th>\n",
       "      <td>20</td>\n",
       "      <td>l2</td>\n",
       "      <td>0.5</td>\n",
       "      <td>6000</td>\n",
       "      <td>2</td>\n",
       "      <td>(1, 1)</td>\n",
       "      <td>0.976077</td>\n",
       "    </tr>\n",
       "  </tbody>\n",
       "</table>\n",
       "</div>"
      ],
      "text/plain": [
       "         logreg__C logreg__penalty  tvec__max_df  tvec__max_features  \\\n",
       "model_1          1              l2           0.5                5000   \n",
       "model_2         10              l2           0.5                6000   \n",
       "model_3         10              l2           0.5                6000   \n",
       "model_4         20              l2           0.5                6000   \n",
       "model_5         20              l2           0.5                6000   \n",
       "\n",
       "         tvec__min_df tvec__ngram_range     score  \n",
       "model_1             2            (1, 1)  0.971025  \n",
       "model_2             2            (1, 1)  0.975780  \n",
       "model_3             3            (1, 1)  0.975929  \n",
       "model_4             2            (1, 1)  0.976077  \n",
       "model_5             2            (1, 1)  0.976077  "
      ]
     },
     "execution_count": 16,
     "metadata": {},
     "output_type": "execute_result"
    }
   ],
   "source": [
    "## set modeling scaffolding ##\n",
    "\n",
    "model_params = model_params # each time it's run, the model_params dict gets overwritten\n",
    "count = count # overwriting count with each run\n",
    "\n",
    "# defining a pipeline with 2 steps: CountVectorizer & LogisticRegression\n",
    "pipe = Pipeline([\n",
    "    ('tvec', TfidfVectorizer()),\n",
    "    ('logreg', LogisticRegression(solver='liblinear'))\n",
    "])\n",
    "\n",
    "# set up the grid search parameters\n",
    "params = {\n",
    "    'tvec__max_features' : [6000],\n",
    "    'tvec__min_df' : [2],\n",
    "    'tvec__max_df' : [0.5],\n",
    "    'tvec__ngram_range' : [(1,1)],\n",
    "    'logreg__penalty' : ['l2'],\n",
    "    'logreg__C' : [20]\n",
    "}\n",
    "\n",
    "# create grid search\n",
    "gs = GridSearchCV(pipe, param_grid=params, cv=5, n_jobs=6, verbose=1)\n",
    "\n",
    "# fitting the model\n",
    "gs.fit(X_train, y_train)\n",
    "\n",
    "# increase the count variable\n",
    "count += 1\n",
    "\n",
    "# adding to our dictionary the best_params_ dictionary, in addition to the 'score'\n",
    "gs.best_params_['score'] = gs.best_score_\n",
    "model_params[f'model_{count}'] = gs.best_params_\n",
    "\n",
    "# transform the params dictionary into a data frame, putting the model ID as the index\n",
    "model_df = pd.DataFrame.from_dict(model_params, orient='index')\n",
    "\n",
    "# print the data frame\n",
    "model_df"
   ]
  },
  {
   "cell_type": "code",
   "execution_count": 17,
   "id": "41ad4d99-bf3e-42c5-9d52-bbd52a473b4c",
   "metadata": {},
   "outputs": [],
   "source": [
    "# instantiate vectorizer\n",
    "tvec = TfidfVectorizer(max_df = 0.5, min_df=2, max_features=6000, ngram_range=(1,1))\n",
    "\n",
    "# applying to the train data\n",
    "X_train = tvec.fit_transform(X_train)\n",
    "\n",
    "# applying to the test data\n",
    "X_test = tvec.transform(X_test)"
   ]
  },
  {
   "cell_type": "code",
   "execution_count": 18,
   "id": "e8359e8d-e555-48bf-99f9-ccf69aaca54b",
   "metadata": {},
   "outputs": [
    {
     "data": {
      "text/plain": [
       "LogisticRegression(C=20, solver='liblinear')"
      ]
     },
     "execution_count": 18,
     "metadata": {},
     "output_type": "execute_result"
    }
   ],
   "source": [
    "# instantiate model\n",
    "logreg = LogisticRegression(solver='liblinear', penalty='l2', C=20)\n",
    "\n",
    "# fit the model to the train data\n",
    "logreg.fit(X_train, y_train)"
   ]
  },
  {
   "cell_type": "code",
   "execution_count": 19,
   "id": "8fa1ef59-9c70-4b47-826f-55b4904543c3",
   "metadata": {},
   "outputs": [
    {
     "data": {
      "text/plain": [
       "0.9912332838038633"
      ]
     },
     "execution_count": 19,
     "metadata": {},
     "output_type": "execute_result"
    }
   ],
   "source": [
    "# training score\n",
    "logreg.score(X_train, y_train)"
   ]
  },
  {
   "cell_type": "code",
   "execution_count": 20,
   "id": "f41b6419-042a-4142-a1e1-57fb6ab9e618",
   "metadata": {},
   "outputs": [
    {
     "data": {
      "text/plain": [
       "0.9737635705669482"
      ]
     },
     "execution_count": 20,
     "metadata": {},
     "output_type": "execute_result"
    }
   ],
   "source": [
    "# testing score\n",
    "logreg.score(X_test, y_test)"
   ]
  },
  {
   "cell_type": "code",
   "execution_count": 21,
   "id": "df42e5f7-b022-40a4-bb2d-7cb91a4f61c7",
   "metadata": {},
   "outputs": [
    {
     "data": {
      "text/html": [
       "<div>\n",
       "<style scoped>\n",
       "    .dataframe tbody tr th:only-of-type {\n",
       "        vertical-align: middle;\n",
       "    }\n",
       "\n",
       "    .dataframe tbody tr th {\n",
       "        vertical-align: top;\n",
       "    }\n",
       "\n",
       "    .dataframe thead th {\n",
       "        text-align: right;\n",
       "    }\n",
       "</style>\n",
       "<table border=\"1\" class=\"dataframe\">\n",
       "  <thead>\n",
       "    <tr style=\"text-align: right;\">\n",
       "      <th></th>\n",
       "      <th>score</th>\n",
       "      <th>value</th>\n",
       "    </tr>\n",
       "  </thead>\n",
       "  <tbody>\n",
       "    <tr>\n",
       "      <th>0</th>\n",
       "      <td>accuracy</td>\n",
       "      <td>0.973764</td>\n",
       "    </tr>\n",
       "    <tr>\n",
       "      <th>1</th>\n",
       "      <td>missclassification</td>\n",
       "      <td>0.026236</td>\n",
       "    </tr>\n",
       "    <tr>\n",
       "      <th>2</th>\n",
       "      <td>specificity</td>\n",
       "      <td>0.941995</td>\n",
       "    </tr>\n",
       "    <tr>\n",
       "      <th>3</th>\n",
       "      <td>recall_sensitivity</td>\n",
       "      <td>0.994068</td>\n",
       "    </tr>\n",
       "    <tr>\n",
       "      <th>4</th>\n",
       "      <td>precision</td>\n",
       "      <td>0.964046</td>\n",
       "    </tr>\n",
       "    <tr>\n",
       "      <th>5</th>\n",
       "      <td>f1</td>\n",
       "      <td>0.978827</td>\n",
       "    </tr>\n",
       "  </tbody>\n",
       "</table>\n",
       "</div>"
      ],
      "text/plain": [
       "                score     value\n",
       "0            accuracy  0.973764\n",
       "1  missclassification  0.026236\n",
       "2         specificity  0.941995\n",
       "3  recall_sensitivity  0.994068\n",
       "4           precision  0.964046\n",
       "5                  f1  0.978827"
      ]
     },
     "execution_count": 21,
     "metadata": {},
     "output_type": "execute_result"
    }
   ],
   "source": [
    "# table of model scores\n",
    "model_scores(X_test, y_test, logreg)"
   ]
  },
  {
   "cell_type": "code",
   "execution_count": 22,
   "id": "fb040ae5-989c-4e75-a7aa-4fb60cfd31c4",
   "metadata": {},
   "outputs": [],
   "source": [
    "# save table into the folder model_scores_subset\n",
    "df = model_scores(X_test, y_test, logreg)\n",
    "df['vectorizer'] = 'TF-IDFVectorizer'\n",
    "df['model'] = 'LogisticRegression'\n",
    "df.to_csv('../model_scores/model_scores_subset/df_tvec_logreg.csv', index=False)"
   ]
  },
  {
   "cell_type": "code",
   "execution_count": 23,
   "id": "7da12df9-6fc8-4375-9a1e-01a04861600f",
   "metadata": {},
   "outputs": [
    {
     "data": {
      "image/png": "[encoded data removed]",
      "text/plain": [
       "<Figure size 432x288 with 2 Axes>"
      ]
     },
     "metadata": {
      "needs_background": "light"
     },
     "output_type": "display_data"
    }
   ],
   "source": [
    "# plot and save confusion matrix\n",
    "plt.rcParams.update({'font.size': 14});\n",
    "plot_confusion_matrix(logreg, X_test, y_test, cmap='Blues', values_format='d');\n",
    "plt.title('LogisticRegression & TF-IDFVectorizer - confusion matrix',fontsize=14);\n",
    "plt.xlabel('predicted subreddit', fontsize=14);\n",
    "plt.ylabel('actual subreddit', fontsize=14);\n",
    "plt.savefig('../images/model_scores_subset/df_tvec_logreg.jpeg');"
   ]
  },
  {
   "cell_type": "markdown",
   "id": "1f50285b-8ee8-4ed6-ab6d-fcf3704d00a5",
   "metadata": {},
   "source": [
    "---"
   ]
  },
  {
   "cell_type": "markdown",
   "id": "5765bedd-a9c3-4acd-8ca1-87fb670c7282",
   "metadata": {},
   "source": [
    "### **2. TF-IDF Vectorizer - Random Forest**"
   ]
  },
  {
   "cell_type": "code",
   "execution_count": 24,
   "id": "ada2b5a9-016b-406d-b4b1-b57e1176d3fe",
   "metadata": {},
   "outputs": [],
   "source": [
    "# Split the data into the training and testing sets.\n",
    "X_train, X_test, y_train, y_test = train_test_split(X,\n",
    "                                                    y,\n",
    "                                                    test_size=0.33,\n",
    "                                                    stratify=y,\n",
    "                                                    random_state=42)"
   ]
  },
  {
   "cell_type": "code",
   "execution_count": 25,
   "id": "dacc0595-94be-4823-a701-ba561fa9f85f",
   "metadata": {},
   "outputs": [],
   "source": [
    "count = 0 # count variable for specifying the model ID\n",
    "\n",
    "model_params = {} # dictionary that will contain model parameters"
   ]
  },
  {
   "cell_type": "code",
   "execution_count": 35,
   "id": "eb2734ee-e44d-40ee-be01-d0bde6005c54",
   "metadata": {},
   "outputs": [
    {
     "name": "stdout",
     "output_type": "stream",
     "text": [
      "Fitting 5 folds for each of 3 candidates, totalling 15 fits\n"
     ]
    },
    {
     "data": {
      "text/html": [
       "<div>\n",
       "<style scoped>\n",
       "    .dataframe tbody tr th:only-of-type {\n",
       "        vertical-align: middle;\n",
       "    }\n",
       "\n",
       "    .dataframe tbody tr th {\n",
       "        vertical-align: top;\n",
       "    }\n",
       "\n",
       "    .dataframe thead th {\n",
       "        text-align: right;\n",
       "    }\n",
       "</style>\n",
       "<table border=\"1\" class=\"dataframe\">\n",
       "  <thead>\n",
       "    <tr style=\"text-align: right;\">\n",
       "      <th></th>\n",
       "      <th>rf__ccp_alpha</th>\n",
       "      <th>rf__max_depth</th>\n",
       "      <th>rf__min_samples_split</th>\n",
       "      <th>rf__n_estimators</th>\n",
       "      <th>tvec__max_df</th>\n",
       "      <th>tvec__max_features</th>\n",
       "      <th>tvec__min_df</th>\n",
       "      <th>tvec__ngram_range</th>\n",
       "      <th>score</th>\n",
       "    </tr>\n",
       "  </thead>\n",
       "  <tbody>\n",
       "    <tr>\n",
       "      <th>model_1</th>\n",
       "      <td>0.01</td>\n",
       "      <td>7</td>\n",
       "      <td>3</td>\n",
       "      <td>100</td>\n",
       "      <td>0.5</td>\n",
       "      <td>5000</td>\n",
       "      <td>5</td>\n",
       "      <td>(1, 1)</td>\n",
       "      <td>0.890788</td>\n",
       "    </tr>\n",
       "    <tr>\n",
       "      <th>model_2</th>\n",
       "      <td>0.01</td>\n",
       "      <td>7</td>\n",
       "      <td>3</td>\n",
       "      <td>100</td>\n",
       "      <td>0.7</td>\n",
       "      <td>3000</td>\n",
       "      <td>7</td>\n",
       "      <td>(1, 1)</td>\n",
       "      <td>0.916048</td>\n",
       "    </tr>\n",
       "    <tr>\n",
       "      <th>model_3</th>\n",
       "      <td>0.01</td>\n",
       "      <td>7</td>\n",
       "      <td>3</td>\n",
       "      <td>100</td>\n",
       "      <td>0.7</td>\n",
       "      <td>2000</td>\n",
       "      <td>7</td>\n",
       "      <td>(1, 1)</td>\n",
       "      <td>0.930312</td>\n",
       "    </tr>\n",
       "    <tr>\n",
       "      <th>model_4</th>\n",
       "      <td>0.01</td>\n",
       "      <td>4</td>\n",
       "      <td>2</td>\n",
       "      <td>50</td>\n",
       "      <td>0.7</td>\n",
       "      <td>1000</td>\n",
       "      <td>7</td>\n",
       "      <td>(1, 1)</td>\n",
       "      <td>0.903715</td>\n",
       "    </tr>\n",
       "    <tr>\n",
       "      <th>model_5</th>\n",
       "      <td>0.01</td>\n",
       "      <td>5</td>\n",
       "      <td>2</td>\n",
       "      <td>100</td>\n",
       "      <td>0.7</td>\n",
       "      <td>500</td>\n",
       "      <td>7</td>\n",
       "      <td>(1, 1)</td>\n",
       "      <td>0.937593</td>\n",
       "    </tr>\n",
       "    <tr>\n",
       "      <th>model_6</th>\n",
       "      <td>0.01</td>\n",
       "      <td>5</td>\n",
       "      <td>2</td>\n",
       "      <td>120</td>\n",
       "      <td>0.7</td>\n",
       "      <td>300</td>\n",
       "      <td>7</td>\n",
       "      <td>(1, 1)</td>\n",
       "      <td>0.942199</td>\n",
       "    </tr>\n",
       "    <tr>\n",
       "      <th>model_7</th>\n",
       "      <td>0.01</td>\n",
       "      <td>6</td>\n",
       "      <td>2</td>\n",
       "      <td>180</td>\n",
       "      <td>0.7</td>\n",
       "      <td>300</td>\n",
       "      <td>7</td>\n",
       "      <td>(1, 1)</td>\n",
       "      <td>0.949629</td>\n",
       "    </tr>\n",
       "    <tr>\n",
       "      <th>model_8</th>\n",
       "      <td>0.01</td>\n",
       "      <td>8</td>\n",
       "      <td>2</td>\n",
       "      <td>200</td>\n",
       "      <td>0.7</td>\n",
       "      <td>300</td>\n",
       "      <td>7</td>\n",
       "      <td>(1, 1)</td>\n",
       "      <td>0.954086</td>\n",
       "    </tr>\n",
       "    <tr>\n",
       "      <th>model_9</th>\n",
       "      <td>0.01</td>\n",
       "      <td>10</td>\n",
       "      <td>2</td>\n",
       "      <td>200</td>\n",
       "      <td>0.7</td>\n",
       "      <td>300</td>\n",
       "      <td>7</td>\n",
       "      <td>(1, 1)</td>\n",
       "      <td>0.955275</td>\n",
       "    </tr>\n",
       "    <tr>\n",
       "      <th>model_10</th>\n",
       "      <td>0.01</td>\n",
       "      <td>15</td>\n",
       "      <td>2</td>\n",
       "      <td>200</td>\n",
       "      <td>0.7</td>\n",
       "      <td>300</td>\n",
       "      <td>7</td>\n",
       "      <td>(1, 1)</td>\n",
       "      <td>0.955423</td>\n",
       "    </tr>\n",
       "  </tbody>\n",
       "</table>\n",
       "</div>"
      ],
      "text/plain": [
       "          rf__ccp_alpha  rf__max_depth  rf__min_samples_split  \\\n",
       "model_1            0.01              7                      3   \n",
       "model_2            0.01              7                      3   \n",
       "model_3            0.01              7                      3   \n",
       "model_4            0.01              4                      2   \n",
       "model_5            0.01              5                      2   \n",
       "model_6            0.01              5                      2   \n",
       "model_7            0.01              6                      2   \n",
       "model_8            0.01              8                      2   \n",
       "model_9            0.01             10                      2   \n",
       "model_10           0.01             15                      2   \n",
       "\n",
       "          rf__n_estimators  tvec__max_df  tvec__max_features  tvec__min_df  \\\n",
       "model_1                100           0.5                5000             5   \n",
       "model_2                100           0.7                3000             7   \n",
       "model_3                100           0.7                2000             7   \n",
       "model_4                 50           0.7                1000             7   \n",
       "model_5                100           0.7                 500             7   \n",
       "model_6                120           0.7                 300             7   \n",
       "model_7                180           0.7                 300             7   \n",
       "model_8                200           0.7                 300             7   \n",
       "model_9                200           0.7                 300             7   \n",
       "model_10               200           0.7                 300             7   \n",
       "\n",
       "         tvec__ngram_range     score  \n",
       "model_1             (1, 1)  0.890788  \n",
       "model_2             (1, 1)  0.916048  \n",
       "model_3             (1, 1)  0.930312  \n",
       "model_4             (1, 1)  0.903715  \n",
       "model_5             (1, 1)  0.937593  \n",
       "model_6             (1, 1)  0.942199  \n",
       "model_7             (1, 1)  0.949629  \n",
       "model_8             (1, 1)  0.954086  \n",
       "model_9             (1, 1)  0.955275  \n",
       "model_10            (1, 1)  0.955423  "
      ]
     },
     "execution_count": 35,
     "metadata": {},
     "output_type": "execute_result"
    }
   ],
   "source": [
    "## set modeling scaffolding ##\n",
    "\n",
    "model_params = model_params # each time it's run, the model_params dict gets overwritten\n",
    "count = count # overwriting count with each run\n",
    "\n",
    "# defining a pipeline with 2 steps: CountVectorizer & LogisticRegression\n",
    "pipe = Pipeline([\n",
    "    ('tvec', TfidfVectorizer()),\n",
    "    ('rf', RandomForestClassifier(random_state=42))\n",
    "])\n",
    "\n",
    "# set up the grid search parameters\n",
    "params = {\n",
    "    'tvec__max_features' : [300],\n",
    "    'tvec__min_df' : [7],\n",
    "    'tvec__max_df' : [0.7],\n",
    "    'tvec__ngram_range' : [(1,1)],\n",
    "    'rf__n_estimators' : [200],\n",
    "    'rf__max_depth' : [15],\n",
    "    'rf__min_samples_split' : [2],\n",
    "    'rf__ccp_alpha' : [0.01]\n",
    "}\n",
    "\n",
    "# create grid search\n",
    "gs = GridSearchCV(pipe, param_grid=params, cv=5, n_jobs=6, verbose=1)\n",
    "\n",
    "# fitting the model\n",
    "gs.fit(X_train, y_train)\n",
    "\n",
    "# increase the count variable\n",
    "count += 1\n",
    "\n",
    "# adding to our dictionary the best_params_ dictionary, in addition to the 'score'\n",
    "gs.best_params_['score'] = gs.best_score_\n",
    "model_params[f'model_{count}'] = gs.best_params_\n",
    "\n",
    "# transform the params dictionary into a data frame, putting the model ID as the index\n",
    "model_df = pd.DataFrame.from_dict(model_params, orient='index')\n",
    "\n",
    "# print the data frame\n",
    "model_df"
   ]
  },
  {
   "cell_type": "code",
   "execution_count": 36,
   "id": "cbb336ea-0309-4ef5-a888-9229c4c7856c",
   "metadata": {},
   "outputs": [],
   "source": [
    "# instantiating vectorizer\n",
    "tvec = TfidfVectorizer(max_df = 0.7, min_df=7, max_features=300, ngram_range=(1,1))\n",
    "\n",
    "# applying to the train data\n",
    "X_train = tvec.fit_transform(X_train)\n",
    "\n",
    "# applying to the test data\n",
    "X_test = tvec.transform(X_test)"
   ]
  },
  {
   "cell_type": "code",
   "execution_count": 37,
   "id": "41e3060b-c5d1-402f-b194-7756ac843570",
   "metadata": {},
   "outputs": [
    {
     "data": {
      "text/plain": [
       "RandomForestClassifier(ccp_alpha=0.01, max_depth=15, n_estimators=200,\n",
       "                       random_state=42)"
      ]
     },
     "execution_count": 37,
     "metadata": {},
     "output_type": "execute_result"
    }
   ],
   "source": [
    "# instantiate model - using best parameters\n",
    "rf = RandomForestClassifier(random_state=42, ccp_alpha=0.01, max_depth=15, min_samples_split=2, \n",
    "                           n_estimators=200)\n",
    "\n",
    "# fit the model to the train data\n",
    "rf.fit(X_train, y_train)"
   ]
  },
  {
   "cell_type": "code",
   "execution_count": 38,
   "id": "21e48775-3a4d-4440-a86d-bbf34b621035",
   "metadata": {},
   "outputs": [
    {
     "data": {
      "text/plain": [
       "0.9548291233283804"
      ]
     },
     "execution_count": 38,
     "metadata": {},
     "output_type": "execute_result"
    }
   ],
   "source": [
    "# training score\n",
    "rf.score(X_train, y_train)"
   ]
  },
  {
   "cell_type": "code",
   "execution_count": 39,
   "id": "9ff27868-1fa8-415a-bbb7-33b172256dde",
   "metadata": {},
   "outputs": [
    {
     "data": {
      "text/plain": [
       "0.9574788902291917"
      ]
     },
     "execution_count": 39,
     "metadata": {},
     "output_type": "execute_result"
    }
   ],
   "source": [
    "# testing score\n",
    "rf.score(X_test, y_test)"
   ]
  },
  {
   "cell_type": "code",
   "execution_count": 40,
   "id": "93940dac-5cac-49f6-8b53-471a52b31b51",
   "metadata": {},
   "outputs": [
    {
     "data": {
      "text/html": [
       "<div>\n",
       "<style scoped>\n",
       "    .dataframe tbody tr th:only-of-type {\n",
       "        vertical-align: middle;\n",
       "    }\n",
       "\n",
       "    .dataframe tbody tr th {\n",
       "        vertical-align: top;\n",
       "    }\n",
       "\n",
       "    .dataframe thead th {\n",
       "        text-align: right;\n",
       "    }\n",
       "</style>\n",
       "<table border=\"1\" class=\"dataframe\">\n",
       "  <thead>\n",
       "    <tr style=\"text-align: right;\">\n",
       "      <th></th>\n",
       "      <th>score</th>\n",
       "      <th>value</th>\n",
       "    </tr>\n",
       "  </thead>\n",
       "  <tbody>\n",
       "    <tr>\n",
       "      <th>0</th>\n",
       "      <td>accuracy</td>\n",
       "      <td>0.957479</td>\n",
       "    </tr>\n",
       "    <tr>\n",
       "      <th>1</th>\n",
       "      <td>missclassification</td>\n",
       "      <td>0.042521</td>\n",
       "    </tr>\n",
       "    <tr>\n",
       "      <th>2</th>\n",
       "      <td>specificity</td>\n",
       "      <td>0.905646</td>\n",
       "    </tr>\n",
       "    <tr>\n",
       "      <th>3</th>\n",
       "      <td>recall_sensitivity</td>\n",
       "      <td>0.990608</td>\n",
       "    </tr>\n",
       "    <tr>\n",
       "      <th>4</th>\n",
       "      <td>precision</td>\n",
       "      <td>0.942615</td>\n",
       "    </tr>\n",
       "    <tr>\n",
       "      <th>5</th>\n",
       "      <td>f1</td>\n",
       "      <td>0.966016</td>\n",
       "    </tr>\n",
       "  </tbody>\n",
       "</table>\n",
       "</div>"
      ],
      "text/plain": [
       "                score     value\n",
       "0            accuracy  0.957479\n",
       "1  missclassification  0.042521\n",
       "2         specificity  0.905646\n",
       "3  recall_sensitivity  0.990608\n",
       "4           precision  0.942615\n",
       "5                  f1  0.966016"
      ]
     },
     "execution_count": 40,
     "metadata": {},
     "output_type": "execute_result"
    }
   ],
   "source": [
    "# table of model scores\n",
    "model_scores(X_test, y_test, rf)"
   ]
  },
  {
   "cell_type": "code",
   "execution_count": 41,
   "id": "1c8412bf-b9f9-4c83-9a1d-d8ae8f66d0b2",
   "metadata": {},
   "outputs": [],
   "source": [
    "# save table\n",
    "df = model_scores(X_test, y_test, rf)\n",
    "df['vectorizer'] = 'TF-IDFVectorizer'\n",
    "df['model'] = 'RandomForest'\n",
    "df.to_csv('../model_scores/model_scores_subset/df_tvec_rf.csv', index=False)"
   ]
  },
  {
   "cell_type": "code",
   "execution_count": 2,
   "id": "d6e90049-b862-4d0a-bcc3-bce4dce3f84d",
   "metadata": {},
   "outputs": [],
   "source": [
    "# plot and save confustion matrix\n",
    "plt.rcParams.update({'font.size': 14});\n",
    "plot_confusion_matrix(rf, X_test, y_test, cmap='Greens', values_format='d');\n",
    "plt.title('RandomForest & TF-IDFVectorizer - confusion matrix',fontsize=14);\n",
    "plt.xlabel('predicted subreddit', fontsize=14);\n",
    "plt.ylabel('actual subreddit', fontsize=14);\n",
    "plt.savefig('../images/model_scores_subset/df_tvec_rf.jpeg');"
   ]
  },
  {
   "cell_type": "markdown",
   "id": "e6810e3a-78cf-4dab-a717-fb9dfae78e84",
   "metadata": {},
   "source": [
    "---"
   ]
  },
  {
   "cell_type": "markdown",
   "id": "63a5e110-9fab-4d25-b7c8-b8ebf271277f",
   "metadata": {},
   "source": [
    "### **3. TF-IDF Vectorizer - Kernel Support Vector Classifier**"
   ]
  },
  {
   "cell_type": "code",
   "execution_count": 44,
   "id": "92403cc4-975e-4915-9f19-94a0c1e96ab5",
   "metadata": {},
   "outputs": [],
   "source": [
    "# Split the data into the training and testing sets.\n",
    "X_train, X_test, y_train, y_test = train_test_split(X,\n",
    "                                                    y,\n",
    "                                                    test_size=0.33,\n",
    "                                                    stratify=y,\n",
    "                                                    random_state=42)"
   ]
  },
  {
   "cell_type": "code",
   "execution_count": 45,
   "id": "3a8b490d-40e0-4eb3-946e-f64080967836",
   "metadata": {},
   "outputs": [],
   "source": [
    "count = 0 # count variable for specifying the model ID\n",
    "\n",
    "model_params = {} # dictionary that will contain model parameters"
   ]
  },
  {
   "cell_type": "code",
   "execution_count": 50,
   "id": "ae3e3fc8-061b-4b1c-bf69-f13d73c84ca9",
   "metadata": {},
   "outputs": [
    {
     "name": "stdout",
     "output_type": "stream",
     "text": [
      "Fitting 5 folds for each of 27 candidates, totalling 135 fits\n"
     ]
    },
    {
     "data": {
      "text/html": [
       "<div>\n",
       "<style scoped>\n",
       "    .dataframe tbody tr th:only-of-type {\n",
       "        vertical-align: middle;\n",
       "    }\n",
       "\n",
       "    .dataframe tbody tr th {\n",
       "        vertical-align: top;\n",
       "    }\n",
       "\n",
       "    .dataframe thead th {\n",
       "        text-align: right;\n",
       "    }\n",
       "</style>\n",
       "<table border=\"1\" class=\"dataframe\">\n",
       "  <thead>\n",
       "    <tr style=\"text-align: right;\">\n",
       "      <th></th>\n",
       "      <th>svc__C</th>\n",
       "      <th>svc__degree</th>\n",
       "      <th>svc__kernel</th>\n",
       "      <th>tvec__max_df</th>\n",
       "      <th>tvec__max_features</th>\n",
       "      <th>tvec__min_df</th>\n",
       "      <th>tvec__ngram_range</th>\n",
       "      <th>score</th>\n",
       "    </tr>\n",
       "  </thead>\n",
       "  <tbody>\n",
       "    <tr>\n",
       "      <th>model_1</th>\n",
       "      <td>0.5</td>\n",
       "      <td>2.0</td>\n",
       "      <td>rbf</td>\n",
       "      <td>0.7</td>\n",
       "      <td>400</td>\n",
       "      <td>6</td>\n",
       "      <td>(1, 1)</td>\n",
       "      <td>0.962110</td>\n",
       "    </tr>\n",
       "    <tr>\n",
       "      <th>model_2</th>\n",
       "      <td>0.7</td>\n",
       "      <td>NaN</td>\n",
       "      <td>rbf</td>\n",
       "      <td>0.7</td>\n",
       "      <td>600</td>\n",
       "      <td>5</td>\n",
       "      <td>(1, 1)</td>\n",
       "      <td>0.966122</td>\n",
       "    </tr>\n",
       "    <tr>\n",
       "      <th>model_3</th>\n",
       "      <td>0.8</td>\n",
       "      <td>NaN</td>\n",
       "      <td>rbf</td>\n",
       "      <td>0.7</td>\n",
       "      <td>1000</td>\n",
       "      <td>4</td>\n",
       "      <td>(1, 1)</td>\n",
       "      <td>0.969242</td>\n",
       "    </tr>\n",
       "    <tr>\n",
       "      <th>model_4</th>\n",
       "      <td>1.2</td>\n",
       "      <td>NaN</td>\n",
       "      <td>rbf</td>\n",
       "      <td>0.7</td>\n",
       "      <td>3000</td>\n",
       "      <td>5</td>\n",
       "      <td>(1, 1)</td>\n",
       "      <td>0.973403</td>\n",
       "    </tr>\n",
       "    <tr>\n",
       "      <th>model_5</th>\n",
       "      <td>1.5</td>\n",
       "      <td>NaN</td>\n",
       "      <td>rbf</td>\n",
       "      <td>0.7</td>\n",
       "      <td>3000</td>\n",
       "      <td>5</td>\n",
       "      <td>(1, 1)</td>\n",
       "      <td>0.973551</td>\n",
       "    </tr>\n",
       "  </tbody>\n",
       "</table>\n",
       "</div>"
      ],
      "text/plain": [
       "         svc__C  svc__degree svc__kernel  tvec__max_df  tvec__max_features  \\\n",
       "model_1     0.5          2.0         rbf           0.7                 400   \n",
       "model_2     0.7          NaN         rbf           0.7                 600   \n",
       "model_3     0.8          NaN         rbf           0.7                1000   \n",
       "model_4     1.2          NaN         rbf           0.7                3000   \n",
       "model_5     1.5          NaN         rbf           0.7                3000   \n",
       "\n",
       "         tvec__min_df tvec__ngram_range     score  \n",
       "model_1             6            (1, 1)  0.962110  \n",
       "model_2             5            (1, 1)  0.966122  \n",
       "model_3             4            (1, 1)  0.969242  \n",
       "model_4             5            (1, 1)  0.973403  \n",
       "model_5             5            (1, 1)  0.973551  "
      ]
     },
     "execution_count": 50,
     "metadata": {},
     "output_type": "execute_result"
    }
   ],
   "source": [
    "## set modeling scaffolding ##\n",
    "\n",
    "model_params = model_params # each time it's run, the model_params dict gets overwritten\n",
    "count = count # overwriting count with each run\n",
    "\n",
    "# defining a pipeline with 2 steps: CountVectorizer & LogisticRegression\n",
    "pipe = Pipeline([\n",
    "    ('tvec', TfidfVectorizer()),\n",
    "    ('svc', SVC())\n",
    "])\n",
    "\n",
    "# set up the grid search parameters\n",
    "params = {\n",
    "    'tvec__max_features' : [3000],\n",
    "    'tvec__min_df' : [5],\n",
    "    'tvec__max_df' : [0.7],\n",
    "    'tvec__ngram_range' : [(1,1)],\n",
    "    'svc__C' : [1.5],\n",
    "    'svc__kernel' : ['rbf'],\n",
    "#     'svc__degree' : [2] # polynomial degrees to gridsearch over when trying out kernel = poly\n",
    "}\n",
    "\n",
    "# create grid search\n",
    "gs = GridSearchCV(pipe, param_grid=params, cv=5, n_jobs=6, verbose=1)\n",
    "\n",
    "# fitting the model\n",
    "gs.fit(X_train, y_train)\n",
    "\n",
    "# increase the count variable\n",
    "count += 1\n",
    "\n",
    "# adding to our dictionary the best_params_ dictionary, in addition to the 'score'\n",
    "gs.best_params_['score'] = gs.best_score_\n",
    "model_params[f'model_{count}'] = gs.best_params_\n",
    "\n",
    "# transform the params dictionary into a data frame, putting the model ID as the index\n",
    "model_df = pd.DataFrame.from_dict(model_params, orient='index')\n",
    "\n",
    "# print the data frame\n",
    "model_df"
   ]
  },
  {
   "cell_type": "code",
   "execution_count": 51,
   "id": "662d5a81-7dc9-4351-9c1c-fa3d3c432cb0",
   "metadata": {},
   "outputs": [],
   "source": [
    "# instantiate vectorizer\n",
    "tvec = TfidfVectorizer(max_df = 0.7, min_df=5, max_features=3000, ngram_range=(1,1))\n",
    "\n",
    "# applying to the train data\n",
    "X_train = tvec.fit_transform(X_train)\n",
    "\n",
    "# applying to the test data\n",
    "X_test = tvec.transform(X_test)"
   ]
  },
  {
   "cell_type": "code",
   "execution_count": 52,
   "id": "ef091c40-6f47-404d-a763-d93a63ee452a",
   "metadata": {},
   "outputs": [
    {
     "data": {
      "text/plain": [
       "SVC(C=1.5, random_state=42)"
      ]
     },
     "execution_count": 52,
     "metadata": {},
     "output_type": "execute_result"
    }
   ],
   "source": [
    "# instantiate model\n",
    "svc = SVC(random_state=42, C=1.5, kernel='rbf')\n",
    "\n",
    "# fit the model to the train data\n",
    "svc.fit(X_train, y_train)"
   ]
  },
  {
   "cell_type": "code",
   "execution_count": 53,
   "id": "05bf1077-ad27-4951-9bef-c13e912c85bc",
   "metadata": {},
   "outputs": [
    {
     "data": {
      "text/plain": [
       "0.9915304606240714"
      ]
     },
     "execution_count": 53,
     "metadata": {},
     "output_type": "execute_result"
    }
   ],
   "source": [
    "# training score\n",
    "svc.score(X_train, y_train)"
   ]
  },
  {
   "cell_type": "code",
   "execution_count": 54,
   "id": "8c73266d-305e-4ff9-8b74-4bb3aba5334e",
   "metadata": {},
   "outputs": [
    {
     "data": {
      "text/plain": [
       "0.9719541616405307"
      ]
     },
     "execution_count": 54,
     "metadata": {},
     "output_type": "execute_result"
    }
   ],
   "source": [
    "# testing score\n",
    "svc.score(X_test, y_test)"
   ]
  },
  {
   "cell_type": "code",
   "execution_count": 55,
   "id": "3a5bc2c1-082f-4135-a0e3-b1f7ca1f23e1",
   "metadata": {},
   "outputs": [
    {
     "data": {
      "text/html": [
       "<div>\n",
       "<style scoped>\n",
       "    .dataframe tbody tr th:only-of-type {\n",
       "        vertical-align: middle;\n",
       "    }\n",
       "\n",
       "    .dataframe tbody tr th {\n",
       "        vertical-align: top;\n",
       "    }\n",
       "\n",
       "    .dataframe thead th {\n",
       "        text-align: right;\n",
       "    }\n",
       "</style>\n",
       "<table border=\"1\" class=\"dataframe\">\n",
       "  <thead>\n",
       "    <tr style=\"text-align: right;\">\n",
       "      <th></th>\n",
       "      <th>score</th>\n",
       "      <th>value</th>\n",
       "    </tr>\n",
       "  </thead>\n",
       "  <tbody>\n",
       "    <tr>\n",
       "      <th>0</th>\n",
       "      <td>accuracy</td>\n",
       "      <td>0.971954</td>\n",
       "    </tr>\n",
       "    <tr>\n",
       "      <th>1</th>\n",
       "      <td>missclassification</td>\n",
       "      <td>0.028046</td>\n",
       "    </tr>\n",
       "    <tr>\n",
       "      <th>2</th>\n",
       "      <td>specificity</td>\n",
       "      <td>0.938902</td>\n",
       "    </tr>\n",
       "    <tr>\n",
       "      <th>3</th>\n",
       "      <td>recall_sensitivity</td>\n",
       "      <td>0.993080</td>\n",
       "    </tr>\n",
       "    <tr>\n",
       "      <th>4</th>\n",
       "      <td>precision</td>\n",
       "      <td>0.962165</td>\n",
       "    </tr>\n",
       "    <tr>\n",
       "      <th>5</th>\n",
       "      <td>f1</td>\n",
       "      <td>0.977378</td>\n",
       "    </tr>\n",
       "  </tbody>\n",
       "</table>\n",
       "</div>"
      ],
      "text/plain": [
       "                score     value\n",
       "0            accuracy  0.971954\n",
       "1  missclassification  0.028046\n",
       "2         specificity  0.938902\n",
       "3  recall_sensitivity  0.993080\n",
       "4           precision  0.962165\n",
       "5                  f1  0.977378"
      ]
     },
     "execution_count": 55,
     "metadata": {},
     "output_type": "execute_result"
    }
   ],
   "source": [
    "# table of model scores\n",
    "model_scores(X_test, y_test, svc)"
   ]
  },
  {
   "cell_type": "code",
   "execution_count": 56,
   "id": "7a39000e-327d-4ce5-ad4c-45a2592a4111",
   "metadata": {},
   "outputs": [],
   "source": [
    "# save table\n",
    "df = model_scores(X_test, y_test, svc)\n",
    "df['vectorizer'] = 'TF-IDFVectorizer'\n",
    "df['model'] = 'KernelSupportVectorClassifier'\n",
    "df.to_csv('../model_scores/model_scores_subset/df_tvec_svc.csv', index=False)"
   ]
  },
  {
   "cell_type": "code",
   "execution_count": 58,
   "id": "2a4b09d9-933c-4be2-a30d-5c476b362548",
   "metadata": {},
   "outputs": [
    {
     "data": {
      "image/png": "[encoded data removed]",
      "text/plain": [
       "<Figure size 432x288 with 2 Axes>"
      ]
     },
     "metadata": {
      "needs_background": "light"
     },
     "output_type": "display_data"
    }
   ],
   "source": [
    "# plot and save confusion matrix\n",
    "plt.rcParams.update({'font.size': 14});\n",
    "plot_confusion_matrix(svc, X_test, y_test, cmap='Purples', values_format='d');\n",
    "plt.title('KernelSupportVectorClassifier & TF-IDFVectorizer - confusion matrix',fontsize=12);\n",
    "plt.xlabel('predicted subreddit', fontsize=14);\n",
    "plt.ylabel('actual subreddit', fontsize=14);\n",
    "plt.savefig('../images/model_scores_subset/df_tvec_svc.jpeg');"
   ]
  },
  {
   "cell_type": "markdown",
   "id": "11f54b3b-51a2-4adb-8975-7762dc449ab7",
   "metadata": {},
   "source": [
    "---"
   ]
  },
  {
   "cell_type": "code",
   "execution_count": 60,
   "id": "68391549-646c-42c7-97c7-9520bbbc60f2",
   "metadata": {},
   "outputs": [],
   "source": [
    "# put together all the model scores data frames\n",
    "import os\n",
    "import pandas as pd\n",
    "files = os.listdir('../model_scores/model_scores_subset')"
   ]
  },
  {
   "cell_type": "code",
   "execution_count": 61,
   "id": "1ea64945-f341-4f27-bbe2-5d3b83adb203",
   "metadata": {},
   "outputs": [
    {
     "data": {
      "text/plain": [
       "['.ipynb_checkpoints',\n",
       " 'df_tvec_logreg.csv',\n",
       " 'df_tvec_rf.csv',\n",
       " 'df_tvec_svc.csv']"
      ]
     },
     "execution_count": 61,
     "metadata": {},
     "output_type": "execute_result"
    }
   ],
   "source": [
    "# check the first file\n",
    "files"
   ]
  },
  {
   "cell_type": "code",
   "execution_count": 62,
   "id": "5697034c-2939-436f-a2be-871895d0ab5d",
   "metadata": {},
   "outputs": [],
   "source": [
    "# exclude the first two files\n",
    "files = files[1:]"
   ]
  },
  {
   "cell_type": "code",
   "execution_count": 63,
   "id": "ef7ed0d5-eade-4cab-ad4e-ae1cd4f6baa5",
   "metadata": {},
   "outputs": [],
   "source": [
    "# put the scores in the desired order\n",
    "cols = ['accuracy', 'missclassification', 'recall_sensitivity', 'specificity', 'precision', 'f1']\n",
    "\n",
    "# load the first file\n",
    "model_info = pd.read_csv(f'../model_scores/model_scores_subset/{files[0]}')\n",
    "# convert to wide format\n",
    "model_info = model_info.pivot(index=['model','vectorizer'], columns='score', values='value')[cols]\n",
    "\n",
    "# concatenate all data frames together\n",
    "for file in range(1, len(files)):\n",
    "    # load the next file in the line and convert to wide format\n",
    "    df = pd.read_csv(f'../model_scores/model_scores_subset/{files[file]}')\n",
    "    df = df.pivot(index=['model','vectorizer'], columns='score', values='value')[cols]\n",
    "    # concatenate the data frames together\n",
    "    model_info = pd.concat([model_info, df], axis=0)"
   ]
  },
  {
   "cell_type": "code",
   "execution_count": 64,
   "id": "3b9aa63b-7cd2-48ed-a4a6-e8368628ab80",
   "metadata": {},
   "outputs": [
    {
     "data": {
      "text/html": [
       "<div>\n",
       "<style scoped>\n",
       "    .dataframe tbody tr th:only-of-type {\n",
       "        vertical-align: middle;\n",
       "    }\n",
       "\n",
       "    .dataframe tbody tr th {\n",
       "        vertical-align: top;\n",
       "    }\n",
       "\n",
       "    .dataframe thead th {\n",
       "        text-align: right;\n",
       "    }\n",
       "</style>\n",
       "<table border=\"1\" class=\"dataframe\">\n",
       "  <thead>\n",
       "    <tr style=\"text-align: right;\">\n",
       "      <th></th>\n",
       "      <th>score</th>\n",
       "      <th>accuracy</th>\n",
       "      <th>missclassification</th>\n",
       "      <th>recall_sensitivity</th>\n",
       "      <th>specificity</th>\n",
       "      <th>precision</th>\n",
       "      <th>f1</th>\n",
       "    </tr>\n",
       "    <tr>\n",
       "      <th>model</th>\n",
       "      <th>vectorizer</th>\n",
       "      <th></th>\n",
       "      <th></th>\n",
       "      <th></th>\n",
       "      <th></th>\n",
       "      <th></th>\n",
       "      <th></th>\n",
       "    </tr>\n",
       "  </thead>\n",
       "  <tbody>\n",
       "    <tr>\n",
       "      <th>LogisticRegression</th>\n",
       "      <th>TF-IDFVectorizer</th>\n",
       "      <td>0.973764</td>\n",
       "      <td>0.026236</td>\n",
       "      <td>0.994068</td>\n",
       "      <td>0.941995</td>\n",
       "      <td>0.964046</td>\n",
       "      <td>0.978827</td>\n",
       "    </tr>\n",
       "    <tr>\n",
       "      <th>RandomForest</th>\n",
       "      <th>TF-IDFVectorizer</th>\n",
       "      <td>0.957479</td>\n",
       "      <td>0.042521</td>\n",
       "      <td>0.990608</td>\n",
       "      <td>0.905646</td>\n",
       "      <td>0.942615</td>\n",
       "      <td>0.966016</td>\n",
       "    </tr>\n",
       "    <tr>\n",
       "      <th>KernelSupportVectorClassifier</th>\n",
       "      <th>TF-IDFVectorizer</th>\n",
       "      <td>0.971954</td>\n",
       "      <td>0.028046</td>\n",
       "      <td>0.993080</td>\n",
       "      <td>0.938902</td>\n",
       "      <td>0.962165</td>\n",
       "      <td>0.977378</td>\n",
       "    </tr>\n",
       "  </tbody>\n",
       "</table>\n",
       "</div>"
      ],
      "text/plain": [
       "score                                           accuracy  missclassification  \\\n",
       "model                         vectorizer                                       \n",
       "LogisticRegression            TF-IDFVectorizer  0.973764            0.026236   \n",
       "RandomForest                  TF-IDFVectorizer  0.957479            0.042521   \n",
       "KernelSupportVectorClassifier TF-IDFVectorizer  0.971954            0.028046   \n",
       "\n",
       "score                                           recall_sensitivity  \\\n",
       "model                         vectorizer                             \n",
       "LogisticRegression            TF-IDFVectorizer            0.994068   \n",
       "RandomForest                  TF-IDFVectorizer            0.990608   \n",
       "KernelSupportVectorClassifier TF-IDFVectorizer            0.993080   \n",
       "\n",
       "score                                           specificity  precision  \\\n",
       "model                         vectorizer                                 \n",
       "LogisticRegression            TF-IDFVectorizer     0.941995   0.964046   \n",
       "RandomForest                  TF-IDFVectorizer     0.905646   0.942615   \n",
       "KernelSupportVectorClassifier TF-IDFVectorizer     0.938902   0.962165   \n",
       "\n",
       "score                                                 f1  \n",
       "model                         vectorizer                  \n",
       "LogisticRegression            TF-IDFVectorizer  0.978827  \n",
       "RandomForest                  TF-IDFVectorizer  0.966016  \n",
       "KernelSupportVectorClassifier TF-IDFVectorizer  0.977378  "
      ]
     },
     "execution_count": 64,
     "metadata": {},
     "output_type": "execute_result"
    }
   ],
   "source": [
    "model_info"
   ]
  },
  {
   "cell_type": "code",
   "execution_count": 65,
   "id": "ce7a17a6-2036-4d8b-b068-05b6145e9389",
   "metadata": {},
   "outputs": [],
   "source": [
    "# save the data frame with model info\n",
    "model_info.to_csv('../data/model_info_summary_subset.csv')"
   ]
  },
  {
   "cell_type": "markdown",
   "id": "2c39ba6b-a090-43e6-b411-d214b89901fa",
   "metadata": {},
   "source": [
    "---"
   ]
  }
 ],
 "metadata": {
  "kernelspec": {
   "display_name": "Python 3",
   "language": "python",
   "name": "python3"
  },
  "language_info": {
   "codemirror_mode": {
    "name": "ipython",
    "version": 3
   },
   "file_extension": ".py",
   "mimetype": "text/x-python",
   "name": "python",
   "nbconvert_exporter": "python",
   "pygments_lexer": "ipython3",
   "version": "3.8.8"
  }
 },
 "nbformat": 4,
 "nbformat_minor": 5
}
